{
 "cells": [
  {
   "cell_type": "markdown",
   "metadata": {},
   "source": [
    "#### Etapa 3 - Análise exploratória dos dados (EDA)"
   ]
  },
  {
   "cell_type": "code",
   "execution_count": 81,
   "metadata": {},
   "outputs": [],
   "source": [
    "import pandas as pd\n",
    "import numpy as np\n",
    "from scipy.stats import shapiro\n",
    "import seaborn as sns\n",
    "import matplotlib.pyplot as plt\n",
    "import plotly.graph_objects as go\n",
    "import warnings\n",
    "from scipy.stats import mannwhitneyu\n",
    "\n",
    "warnings.filterwarnings(action='ignore')"
   ]
  },
  {
   "cell_type": "code",
   "execution_count": 82,
   "metadata": {},
   "outputs": [
    {
     "data": {
      "text/html": [
       "<div>\n",
       "<style scoped>\n",
       "    .dataframe tbody tr th:only-of-type {\n",
       "        vertical-align: middle;\n",
       "    }\n",
       "\n",
       "    .dataframe tbody tr th {\n",
       "        vertical-align: top;\n",
       "    }\n",
       "\n",
       "    .dataframe thead th {\n",
       "        text-align: right;\n",
       "    }\n",
       "</style>\n",
       "<table border=\"1\" class=\"dataframe\">\n",
       "  <thead>\n",
       "    <tr style=\"text-align: right;\">\n",
       "      <th></th>\n",
       "      <th>total_distance (km)</th>\n",
       "      <th>total_time (min)</th>\n",
       "      <th>pace (min/km)</th>\n",
       "      <th>speed (km/h)</th>\n",
       "      <th>weekly_frequency</th>\n",
       "      <th>days_since_last_activity</th>\n",
       "    </tr>\n",
       "  </thead>\n",
       "  <tbody>\n",
       "    <tr>\n",
       "      <th>0</th>\n",
       "      <td>3.61</td>\n",
       "      <td>23.0</td>\n",
       "      <td>6.37</td>\n",
       "      <td>9.42</td>\n",
       "      <td>3</td>\n",
       "      <td>0</td>\n",
       "    </tr>\n",
       "    <tr>\n",
       "      <th>1</th>\n",
       "      <td>25.66</td>\n",
       "      <td>127.0</td>\n",
       "      <td>4.95</td>\n",
       "      <td>12.12</td>\n",
       "      <td>2</td>\n",
       "      <td>4</td>\n",
       "    </tr>\n",
       "    <tr>\n",
       "      <th>2</th>\n",
       "      <td>25.54</td>\n",
       "      <td>149.0</td>\n",
       "      <td>5.83</td>\n",
       "      <td>10.28</td>\n",
       "      <td>3</td>\n",
       "      <td>2</td>\n",
       "    </tr>\n",
       "    <tr>\n",
       "      <th>3</th>\n",
       "      <td>5.84</td>\n",
       "      <td>41.0</td>\n",
       "      <td>7.02</td>\n",
       "      <td>8.55</td>\n",
       "      <td>3</td>\n",
       "      <td>2</td>\n",
       "    </tr>\n",
       "    <tr>\n",
       "      <th>4</th>\n",
       "      <td>4.28</td>\n",
       "      <td>32.0</td>\n",
       "      <td>7.48</td>\n",
       "      <td>8.02</td>\n",
       "      <td>4</td>\n",
       "      <td>1</td>\n",
       "    </tr>\n",
       "    <tr>\n",
       "      <th>...</th>\n",
       "      <td>...</td>\n",
       "      <td>...</td>\n",
       "      <td>...</td>\n",
       "      <td>...</td>\n",
       "      <td>...</td>\n",
       "      <td>...</td>\n",
       "    </tr>\n",
       "    <tr>\n",
       "      <th>885</th>\n",
       "      <td>10.06</td>\n",
       "      <td>45.0</td>\n",
       "      <td>4.47</td>\n",
       "      <td>13.26</td>\n",
       "      <td>3</td>\n",
       "      <td>3</td>\n",
       "    </tr>\n",
       "    <tr>\n",
       "      <th>886</th>\n",
       "      <td>5.20</td>\n",
       "      <td>33.0</td>\n",
       "      <td>6.35</td>\n",
       "      <td>9.27</td>\n",
       "      <td>3</td>\n",
       "      <td>2</td>\n",
       "    </tr>\n",
       "    <tr>\n",
       "      <th>887</th>\n",
       "      <td>12.10</td>\n",
       "      <td>62.0</td>\n",
       "      <td>5.12</td>\n",
       "      <td>11.71</td>\n",
       "      <td>3</td>\n",
       "      <td>3</td>\n",
       "    </tr>\n",
       "    <tr>\n",
       "      <th>888</th>\n",
       "      <td>4.08</td>\n",
       "      <td>22.0</td>\n",
       "      <td>5.39</td>\n",
       "      <td>11.13</td>\n",
       "      <td>2</td>\n",
       "      <td>5</td>\n",
       "    </tr>\n",
       "    <tr>\n",
       "      <th>889</th>\n",
       "      <td>7.19</td>\n",
       "      <td>41.0</td>\n",
       "      <td>5.52</td>\n",
       "      <td>11.15</td>\n",
       "      <td>2</td>\n",
       "      <td>2</td>\n",
       "    </tr>\n",
       "  </tbody>\n",
       "</table>\n",
       "<p>890 rows × 6 columns</p>\n",
       "</div>"
      ],
      "text/plain": [
       "     total_distance (km)  total_time (min)  pace (min/km)  speed (km/h)  \\\n",
       "0                   3.61              23.0           6.37          9.42   \n",
       "1                  25.66             127.0           4.95         12.12   \n",
       "2                  25.54             149.0           5.83         10.28   \n",
       "3                   5.84              41.0           7.02          8.55   \n",
       "4                   4.28              32.0           7.48          8.02   \n",
       "..                   ...               ...            ...           ...   \n",
       "885                10.06              45.0           4.47         13.26   \n",
       "886                 5.20              33.0           6.35          9.27   \n",
       "887                12.10              62.0           5.12         11.71   \n",
       "888                 4.08              22.0           5.39         11.13   \n",
       "889                 7.19              41.0           5.52         11.15   \n",
       "\n",
       "     weekly_frequency  days_since_last_activity  \n",
       "0                   3                         0  \n",
       "1                   2                         4  \n",
       "2                   3                         2  \n",
       "3                   3                         2  \n",
       "4                   4                         1  \n",
       "..                ...                       ...  \n",
       "885                 3                         3  \n",
       "886                 3                         2  \n",
       "887                 3                         3  \n",
       "888                 2                         5  \n",
       "889                 2                         2  \n",
       "\n",
       "[890 rows x 6 columns]"
      ]
     },
     "execution_count": 82,
     "metadata": {},
     "output_type": "execute_result"
    }
   ],
   "source": [
    "df_athletes_activities = pd.read_csv('C:/Users/USER/Desktop/EstudosDados/Projetos/Corrida/physical_inactivity_prediction/scripts_prediction_model/final/st2_df_athletes_activities.csv')\n",
    "df_athletes_activities_features = df_athletes_activities.loc[:, ~df_athletes_activities.columns.isin(['activity_date', 'athlete_id', 'will_churn'])]\n",
    "df_athletes_activities_features"
   ]
  },
  {
   "cell_type": "code",
   "execution_count": 83,
   "metadata": {},
   "outputs": [
    {
     "name": "stdout",
     "output_type": "stream",
     "text": [
      "Coluna: total_distance (km), p-value: 0.0\n",
      "Coluna: total_time (min), p-value: 0.0\n",
      "Coluna: pace (min/km), p-value: 0.0\n",
      "Coluna: speed (km/h), p-value: 0.0\n",
      "Coluna: weekly_frequency, p-value: 0.0\n",
      "Coluna: days_since_last_activity, p-value: 0.0\n"
     ]
    }
   ],
   "source": [
    "# Teste de normalidade das features com Shapiro-Wilk\n",
    "for column in df_athletes_activities_features:\n",
    "    _, p_value = shapiro(df_athletes_activities_features[column].values)\n",
    "    print(f'Coluna: {column}, p-value: {round(p_value, 5)}')"
   ]
  },
  {
   "cell_type": "code",
   "execution_count": 84,
   "metadata": {},
   "outputs": [
    {
     "data": {
      "text/html": [
       "<div>\n",
       "<style scoped>\n",
       "    .dataframe tbody tr th:only-of-type {\n",
       "        vertical-align: middle;\n",
       "    }\n",
       "\n",
       "    .dataframe tbody tr th {\n",
       "        vertical-align: top;\n",
       "    }\n",
       "\n",
       "    .dataframe thead th {\n",
       "        text-align: right;\n",
       "    }\n",
       "</style>\n",
       "<table border=\"1\" class=\"dataframe\">\n",
       "  <thead>\n",
       "    <tr style=\"text-align: right;\">\n",
       "      <th></th>\n",
       "      <th>total_distance (km)</th>\n",
       "      <th>total_time (min)</th>\n",
       "      <th>pace (min/km)</th>\n",
       "      <th>speed (km/h)</th>\n",
       "      <th>weekly_frequency</th>\n",
       "      <th>days_since_last_activity</th>\n",
       "    </tr>\n",
       "  </thead>\n",
       "  <tbody>\n",
       "    <tr>\n",
       "      <th>total_distance (km)</th>\n",
       "      <td>1.000000</td>\n",
       "      <td>0.825072</td>\n",
       "      <td>-0.122735</td>\n",
       "      <td>0.621289</td>\n",
       "      <td>0.029524</td>\n",
       "      <td>-0.015398</td>\n",
       "    </tr>\n",
       "    <tr>\n",
       "      <th>total_time (min)</th>\n",
       "      <td>0.825072</td>\n",
       "      <td>1.000000</td>\n",
       "      <td>-0.089912</td>\n",
       "      <td>0.192218</td>\n",
       "      <td>0.074927</td>\n",
       "      <td>-0.054444</td>\n",
       "    </tr>\n",
       "    <tr>\n",
       "      <th>pace (min/km)</th>\n",
       "      <td>-0.122735</td>\n",
       "      <td>-0.089912</td>\n",
       "      <td>1.000000</td>\n",
       "      <td>-0.145799</td>\n",
       "      <td>-0.100773</td>\n",
       "      <td>0.013664</td>\n",
       "    </tr>\n",
       "    <tr>\n",
       "      <th>speed (km/h)</th>\n",
       "      <td>0.621289</td>\n",
       "      <td>0.192218</td>\n",
       "      <td>-0.145799</td>\n",
       "      <td>1.000000</td>\n",
       "      <td>0.052740</td>\n",
       "      <td>0.032086</td>\n",
       "    </tr>\n",
       "    <tr>\n",
       "      <th>weekly_frequency</th>\n",
       "      <td>0.029524</td>\n",
       "      <td>0.074927</td>\n",
       "      <td>-0.100773</td>\n",
       "      <td>0.052740</td>\n",
       "      <td>1.000000</td>\n",
       "      <td>-0.263234</td>\n",
       "    </tr>\n",
       "    <tr>\n",
       "      <th>days_since_last_activity</th>\n",
       "      <td>-0.015398</td>\n",
       "      <td>-0.054444</td>\n",
       "      <td>0.013664</td>\n",
       "      <td>0.032086</td>\n",
       "      <td>-0.263234</td>\n",
       "      <td>1.000000</td>\n",
       "    </tr>\n",
       "  </tbody>\n",
       "</table>\n",
       "</div>"
      ],
      "text/plain": [
       "                          total_distance (km)  total_time (min)  \\\n",
       "total_distance (km)                  1.000000          0.825072   \n",
       "total_time (min)                     0.825072          1.000000   \n",
       "pace (min/km)                       -0.122735         -0.089912   \n",
       "speed (km/h)                         0.621289          0.192218   \n",
       "weekly_frequency                     0.029524          0.074927   \n",
       "days_since_last_activity            -0.015398         -0.054444   \n",
       "\n",
       "                          pace (min/km)  speed (km/h)  weekly_frequency  \\\n",
       "total_distance (km)           -0.122735      0.621289          0.029524   \n",
       "total_time (min)              -0.089912      0.192218          0.074927   \n",
       "pace (min/km)                  1.000000     -0.145799         -0.100773   \n",
       "speed (km/h)                  -0.145799      1.000000          0.052740   \n",
       "weekly_frequency              -0.100773      0.052740          1.000000   \n",
       "days_since_last_activity       0.013664      0.032086         -0.263234   \n",
       "\n",
       "                          days_since_last_activity  \n",
       "total_distance (km)                      -0.015398  \n",
       "total_time (min)                         -0.054444  \n",
       "pace (min/km)                             0.013664  \n",
       "speed (km/h)                              0.032086  \n",
       "weekly_frequency                         -0.263234  \n",
       "days_since_last_activity                  1.000000  "
      ]
     },
     "execution_count": 84,
     "metadata": {},
     "output_type": "execute_result"
    }
   ],
   "source": [
    "# Análise de correlação das variáveis\n",
    "corr = df_athletes_activities_features.corr()\n",
    "corr"
   ]
  },
  {
   "cell_type": "code",
   "execution_count": 85,
   "metadata": {},
   "outputs": [
    {
     "data": {
      "text/html": [
       "<div>\n",
       "<style scoped>\n",
       "    .dataframe tbody tr th:only-of-type {\n",
       "        vertical-align: middle;\n",
       "    }\n",
       "\n",
       "    .dataframe tbody tr th {\n",
       "        vertical-align: top;\n",
       "    }\n",
       "\n",
       "    .dataframe thead th {\n",
       "        text-align: right;\n",
       "    }\n",
       "</style>\n",
       "<table border=\"1\" class=\"dataframe\">\n",
       "  <thead>\n",
       "    <tr style=\"text-align: right;\">\n",
       "      <th></th>\n",
       "      <th>feature1</th>\n",
       "      <th>feature2</th>\n",
       "      <th>correlation</th>\n",
       "    </tr>\n",
       "  </thead>\n",
       "  <tbody>\n",
       "    <tr>\n",
       "      <th>0</th>\n",
       "      <td>total_time (min)</td>\n",
       "      <td>total_distance (km)</td>\n",
       "      <td>0.825072</td>\n",
       "    </tr>\n",
       "    <tr>\n",
       "      <th>1</th>\n",
       "      <td>pace (min/km)</td>\n",
       "      <td>total_distance (km)</td>\n",
       "      <td>-0.122735</td>\n",
       "    </tr>\n",
       "    <tr>\n",
       "      <th>2</th>\n",
       "      <td>speed (km/h)</td>\n",
       "      <td>total_distance (km)</td>\n",
       "      <td>0.621289</td>\n",
       "    </tr>\n",
       "    <tr>\n",
       "      <th>3</th>\n",
       "      <td>weekly_frequency</td>\n",
       "      <td>total_distance (km)</td>\n",
       "      <td>0.029524</td>\n",
       "    </tr>\n",
       "    <tr>\n",
       "      <th>4</th>\n",
       "      <td>days_since_last_activity</td>\n",
       "      <td>total_distance (km)</td>\n",
       "      <td>-0.015398</td>\n",
       "    </tr>\n",
       "    <tr>\n",
       "      <th>5</th>\n",
       "      <td>pace (min/km)</td>\n",
       "      <td>total_time (min)</td>\n",
       "      <td>-0.089912</td>\n",
       "    </tr>\n",
       "    <tr>\n",
       "      <th>6</th>\n",
       "      <td>speed (km/h)</td>\n",
       "      <td>total_time (min)</td>\n",
       "      <td>0.192218</td>\n",
       "    </tr>\n",
       "    <tr>\n",
       "      <th>7</th>\n",
       "      <td>weekly_frequency</td>\n",
       "      <td>total_time (min)</td>\n",
       "      <td>0.074927</td>\n",
       "    </tr>\n",
       "    <tr>\n",
       "      <th>8</th>\n",
       "      <td>days_since_last_activity</td>\n",
       "      <td>total_time (min)</td>\n",
       "      <td>-0.054444</td>\n",
       "    </tr>\n",
       "    <tr>\n",
       "      <th>9</th>\n",
       "      <td>speed (km/h)</td>\n",
       "      <td>pace (min/km)</td>\n",
       "      <td>-0.145799</td>\n",
       "    </tr>\n",
       "    <tr>\n",
       "      <th>10</th>\n",
       "      <td>weekly_frequency</td>\n",
       "      <td>pace (min/km)</td>\n",
       "      <td>-0.100773</td>\n",
       "    </tr>\n",
       "    <tr>\n",
       "      <th>11</th>\n",
       "      <td>days_since_last_activity</td>\n",
       "      <td>pace (min/km)</td>\n",
       "      <td>0.013664</td>\n",
       "    </tr>\n",
       "    <tr>\n",
       "      <th>12</th>\n",
       "      <td>weekly_frequency</td>\n",
       "      <td>speed (km/h)</td>\n",
       "      <td>0.052740</td>\n",
       "    </tr>\n",
       "    <tr>\n",
       "      <th>13</th>\n",
       "      <td>days_since_last_activity</td>\n",
       "      <td>speed (km/h)</td>\n",
       "      <td>0.032086</td>\n",
       "    </tr>\n",
       "    <tr>\n",
       "      <th>14</th>\n",
       "      <td>days_since_last_activity</td>\n",
       "      <td>weekly_frequency</td>\n",
       "      <td>-0.263234</td>\n",
       "    </tr>\n",
       "  </tbody>\n",
       "</table>\n",
       "</div>"
      ],
      "text/plain": [
       "                    feature1             feature2  correlation\n",
       "0           total_time (min)  total_distance (km)     0.825072\n",
       "1              pace (min/km)  total_distance (km)    -0.122735\n",
       "2               speed (km/h)  total_distance (km)     0.621289\n",
       "3           weekly_frequency  total_distance (km)     0.029524\n",
       "4   days_since_last_activity  total_distance (km)    -0.015398\n",
       "5              pace (min/km)     total_time (min)    -0.089912\n",
       "6               speed (km/h)     total_time (min)     0.192218\n",
       "7           weekly_frequency     total_time (min)     0.074927\n",
       "8   days_since_last_activity     total_time (min)    -0.054444\n",
       "9               speed (km/h)        pace (min/km)    -0.145799\n",
       "10          weekly_frequency        pace (min/km)    -0.100773\n",
       "11  days_since_last_activity        pace (min/km)     0.013664\n",
       "12          weekly_frequency         speed (km/h)     0.052740\n",
       "13  days_since_last_activity         speed (km/h)     0.032086\n",
       "14  days_since_last_activity     weekly_frequency    -0.263234"
      ]
     },
     "execution_count": 85,
     "metadata": {},
     "output_type": "execute_result"
    }
   ],
   "source": [
    "# Transformar a matriz de correlação em um DataFrame (formatado de maneira que seja fácil visualizar pares de features)\n",
    "df_corr = pd.melt(corr, ignore_index=False, var_name='feature2', value_name='correlation')\n",
    "\n",
    "# Resetar o índice para que 'feature1' seja uma coluna em vez de índice e renomear a coluna de índice para 'feature1'\n",
    "df_corr = df_corr.reset_index().rename(columns={'index': 'feature1'})\n",
    "\n",
    "# Remover linhas onde 'feature1' e 'feature2' são iguais (ou seja, a correlação de uma feature com ela mesma)\n",
    "df_corr.drop(df_corr[(df_corr['feature1'] == df_corr['feature2'])].index, axis=0, inplace=True)\n",
    "\n",
    "# Remover duplicatas na coluna de correlação, mantendo apenas a primeira ocorrência\n",
    "df_corr.drop_duplicates(subset='correlation', inplace=True)\n",
    "\n",
    "# Resetar o índice mais uma vez após remover duplicatas\n",
    "df_corr.reset_index(drop=True, inplace=True)\n",
    "\n",
    "df_corr"
   ]
  },
  {
   "cell_type": "code",
   "execution_count": 86,
   "metadata": {},
   "outputs": [
    {
     "data": {
      "text/html": [
       "<div>\n",
       "<style scoped>\n",
       "    .dataframe tbody tr th:only-of-type {\n",
       "        vertical-align: middle;\n",
       "    }\n",
       "\n",
       "    .dataframe tbody tr th {\n",
       "        vertical-align: top;\n",
       "    }\n",
       "\n",
       "    .dataframe thead th {\n",
       "        text-align: right;\n",
       "    }\n",
       "</style>\n",
       "<table border=\"1\" class=\"dataframe\">\n",
       "  <thead>\n",
       "    <tr style=\"text-align: right;\">\n",
       "      <th></th>\n",
       "      <th>correlation</th>\n",
       "    </tr>\n",
       "  </thead>\n",
       "  <tbody>\n",
       "    <tr>\n",
       "      <th>total_distance (km)</th>\n",
       "      <td>0.322804</td>\n",
       "    </tr>\n",
       "    <tr>\n",
       "      <th>total_time (min)</th>\n",
       "      <td>0.247315</td>\n",
       "    </tr>\n",
       "    <tr>\n",
       "      <th>pace (min/km)</th>\n",
       "      <td>0.094577</td>\n",
       "    </tr>\n",
       "    <tr>\n",
       "      <th>speed (km/h)</th>\n",
       "      <td>0.208826</td>\n",
       "    </tr>\n",
       "    <tr>\n",
       "      <th>weekly_frequency</th>\n",
       "      <td>0.104240</td>\n",
       "    </tr>\n",
       "    <tr>\n",
       "      <th>days_since_last_activity</th>\n",
       "      <td>0.075765</td>\n",
       "    </tr>\n",
       "  </tbody>\n",
       "</table>\n",
       "</div>"
      ],
      "text/plain": [
       "                          correlation\n",
       "total_distance (km)          0.322804\n",
       "total_time (min)             0.247315\n",
       "pace (min/km)                0.094577\n",
       "speed (km/h)                 0.208826\n",
       "weekly_frequency             0.104240\n",
       "days_since_last_activity     0.075765"
      ]
     },
     "execution_count": 86,
     "metadata": {},
     "output_type": "execute_result"
    }
   ],
   "source": [
    "# Cria um DataFrame vazio para armazenar as médias das correlações absolutas\n",
    "df_corr_abs_mean = pd.DataFrame()\n",
    "\n",
    "# Define os índices do DataFrame como as colunas do DataFrame de correlações\n",
    "df_corr_abs_mean.index = corr.columns\n",
    "\n",
    "# Itera sobre cada índice (feature) no DataFrame df_corr_abs_mean\n",
    "for index in df_corr_abs_mean.index:\n",
    "    # Calcula a média das correlações absolutas para a feature atual\n",
    "    feature_corr_abs_mean = np.abs(df_corr.loc[(df_corr['feature1'] == index) | (df_corr['feature2'] == index), 'correlation']).mean()\n",
    "    # Armazena a média calculada no DataFrame df_corr_abs_mean\n",
    "    df_corr_abs_mean.loc[index, 'correlation'] = feature_corr_abs_mean\n",
    "\n",
    "# Exibe o DataFrame com as médias das correlações absolutas\n",
    "df_corr_abs_mean"
   ]
  },
  {
   "cell_type": "code",
   "execution_count": 106,
   "metadata": {},
   "outputs": [
    {
     "data": {
      "text/html": [
       "<div>\n",
       "<style scoped>\n",
       "    .dataframe tbody tr th:only-of-type {\n",
       "        vertical-align: middle;\n",
       "    }\n",
       "\n",
       "    .dataframe tbody tr th {\n",
       "        vertical-align: top;\n",
       "    }\n",
       "\n",
       "    .dataframe thead th {\n",
       "        text-align: right;\n",
       "    }\n",
       "</style>\n",
       "<table border=\"1\" class=\"dataframe\">\n",
       "  <thead>\n",
       "    <tr style=\"text-align: right;\">\n",
       "      <th></th>\n",
       "      <th>feature1</th>\n",
       "      <th>feature2</th>\n",
       "      <th>correlation</th>\n",
       "    </tr>\n",
       "  </thead>\n",
       "  <tbody>\n",
       "    <tr>\n",
       "      <th>0</th>\n",
       "      <td>total_time (min)</td>\n",
       "      <td>total_distance (km)</td>\n",
       "      <td>0.825072</td>\n",
       "    </tr>\n",
       "    <tr>\n",
       "      <th>2</th>\n",
       "      <td>speed (km/h)</td>\n",
       "      <td>total_distance (km)</td>\n",
       "      <td>0.621289</td>\n",
       "    </tr>\n",
       "  </tbody>\n",
       "</table>\n",
       "</div>"
      ],
      "text/plain": [
       "           feature1             feature2  correlation\n",
       "0  total_time (min)  total_distance (km)     0.825072\n",
       "2      speed (km/h)  total_distance (km)     0.621289"
      ]
     },
     "execution_count": 106,
     "metadata": {},
     "output_type": "execute_result"
    }
   ],
   "source": [
    "# Selecionando apenas correlações com valor acima de -0.7 ou 0.7 (Forte correlação)\n",
    "df_strong_corr = df_corr[(np.abs(df_corr['correlation']) > 0.5)]\n",
    "df_strong_corr"
   ]
  },
  {
   "cell_type": "code",
   "execution_count": 107,
   "metadata": {},
   "outputs": [
    {
     "name": "stdout",
     "output_type": "stream",
     "text": [
      "total_time (min) tem menor correlação do que total_distance (km)\n",
      "speed (km/h) tem menor correlação do que total_distance (km)\n",
      "['total_distance (km)']\n"
     ]
    }
   ],
   "source": [
    "# Cria um conjunto vazio para armazenar features a serem removidas\n",
    "features_to_remove = set()\n",
    "\n",
    "# Itera sobre cada linha do DataFrame df_strong_corr\n",
    "for i, row in df_strong_corr.iterrows():\n",
    "    # Obtém o nome da primeira feature\n",
    "    feature1 = row['feature1']\n",
    "    # Obtém o nome da segunda feature\n",
    "    feature2 = row['feature2']\n",
    "\n",
    "    # Compara as correlações das duas features\n",
    "    if df_corr_abs_mean.loc[feature1, 'correlation'] > df_corr_abs_mean.loc[feature2, 'correlation']:\n",
    "        # Adiciona feature1 ao conjunto se sua correlação for maior\n",
    "        features_to_remove.add(feature1)\n",
    "        \n",
    "    elif df_corr_abs_mean.loc[feature1, 'correlation'] < df_corr_abs_mean.loc[feature2, 'correlation']:\n",
    "        # Adiciona feature2 ao conjunto se sua correlação for maior\n",
    "        features_to_remove.add(feature2)\n",
    "        \n",
    "        \n",
    "# Converte o conjunto para uma lista\n",
    "features_to_remove = list(features_to_remove)\n",
    "\n",
    "# Exibe a lista de features a serem removidas\n",
    "print(features_to_remove)"
   ]
  },
  {
   "cell_type": "code",
   "execution_count": 30,
   "metadata": {},
   "outputs": [
    {
     "data": {
      "application/vnd.plotly.v1+json": {
       "config": {
        "plotlyServerURL": "https://plot.ly"
       },
       "data": [
        {
         "colorscale": [
          [
           0,
           "rgb(247,251,255)"
          ],
          [
           0.125,
           "rgb(222,235,247)"
          ],
          [
           0.25,
           "rgb(198,219,239)"
          ],
          [
           0.375,
           "rgb(158,202,225)"
          ],
          [
           0.5,
           "rgb(107,174,214)"
          ],
          [
           0.625,
           "rgb(66,146,198)"
          ],
          [
           0.75,
           "rgb(33,113,181)"
          ],
          [
           0.875,
           "rgb(8,81,156)"
          ],
          [
           1,
           "rgb(8,48,107)"
          ]
         ],
         "type": "heatmap",
         "x": [
          "total_distance (km)",
          "total_time (min)",
          "pace (min/km)",
          "speed (km/h)",
          "weekly_frequency",
          "days_since_last_activity"
         ],
         "y": [
          "total_distance (km)",
          "total_time (min)",
          "pace (min/km)",
          "speed (km/h)",
          "weekly_frequency",
          "days_since_last_activity"
         ],
         "z": [
          [
           1,
           0.8250722961713972,
           -0.12273504380309251,
           0.6212891095078014,
           0.02952402048799822,
           -0.015398085734396478
          ],
          [
           0.8250722961713972,
           1,
           -0.0899116914715033,
           0.192218255978991,
           0.07492712904714142,
           -0.05444436551063456
          ],
          [
           -0.12273504380309251,
           -0.0899116914715033,
           1,
           -0.14579856941157393,
           -0.10077312887817201,
           0.013664093268283689
          ],
          [
           0.6212891095078014,
           0.192218255978991,
           -0.14579856941157393,
           1,
           0.052739744584638294,
           0.03208572623295891
          ],
          [
           0.02952402048799822,
           0.07492712904714142,
           -0.10077312887817201,
           0.052739744584638294,
           1,
           -0.2632341203503331
          ],
          [
           -0.015398085734396478,
           -0.05444436551063456,
           0.013664093268283689,
           0.03208572623295891,
           -0.2632341203503331,
           1
          ]
         ],
         "zmax": 1,
         "zmin": -1
        }
       ],
       "layout": {
        "template": {
         "data": {
          "bar": [
           {
            "error_x": {
             "color": "#2a3f5f"
            },
            "error_y": {
             "color": "#2a3f5f"
            },
            "marker": {
             "line": {
              "color": "#E5ECF6",
              "width": 0.5
             },
             "pattern": {
              "fillmode": "overlay",
              "size": 10,
              "solidity": 0.2
             }
            },
            "type": "bar"
           }
          ],
          "barpolar": [
           {
            "marker": {
             "line": {
              "color": "#E5ECF6",
              "width": 0.5
             },
             "pattern": {
              "fillmode": "overlay",
              "size": 10,
              "solidity": 0.2
             }
            },
            "type": "barpolar"
           }
          ],
          "carpet": [
           {
            "aaxis": {
             "endlinecolor": "#2a3f5f",
             "gridcolor": "white",
             "linecolor": "white",
             "minorgridcolor": "white",
             "startlinecolor": "#2a3f5f"
            },
            "baxis": {
             "endlinecolor": "#2a3f5f",
             "gridcolor": "white",
             "linecolor": "white",
             "minorgridcolor": "white",
             "startlinecolor": "#2a3f5f"
            },
            "type": "carpet"
           }
          ],
          "choropleth": [
           {
            "colorbar": {
             "outlinewidth": 0,
             "ticks": ""
            },
            "type": "choropleth"
           }
          ],
          "contour": [
           {
            "colorbar": {
             "outlinewidth": 0,
             "ticks": ""
            },
            "colorscale": [
             [
              0,
              "#0d0887"
             ],
             [
              0.1111111111111111,
              "#46039f"
             ],
             [
              0.2222222222222222,
              "#7201a8"
             ],
             [
              0.3333333333333333,
              "#9c179e"
             ],
             [
              0.4444444444444444,
              "#bd3786"
             ],
             [
              0.5555555555555556,
              "#d8576b"
             ],
             [
              0.6666666666666666,
              "#ed7953"
             ],
             [
              0.7777777777777778,
              "#fb9f3a"
             ],
             [
              0.8888888888888888,
              "#fdca26"
             ],
             [
              1,
              "#f0f921"
             ]
            ],
            "type": "contour"
           }
          ],
          "contourcarpet": [
           {
            "colorbar": {
             "outlinewidth": 0,
             "ticks": ""
            },
            "type": "contourcarpet"
           }
          ],
          "heatmap": [
           {
            "colorbar": {
             "outlinewidth": 0,
             "ticks": ""
            },
            "colorscale": [
             [
              0,
              "#0d0887"
             ],
             [
              0.1111111111111111,
              "#46039f"
             ],
             [
              0.2222222222222222,
              "#7201a8"
             ],
             [
              0.3333333333333333,
              "#9c179e"
             ],
             [
              0.4444444444444444,
              "#bd3786"
             ],
             [
              0.5555555555555556,
              "#d8576b"
             ],
             [
              0.6666666666666666,
              "#ed7953"
             ],
             [
              0.7777777777777778,
              "#fb9f3a"
             ],
             [
              0.8888888888888888,
              "#fdca26"
             ],
             [
              1,
              "#f0f921"
             ]
            ],
            "type": "heatmap"
           }
          ],
          "heatmapgl": [
           {
            "colorbar": {
             "outlinewidth": 0,
             "ticks": ""
            },
            "colorscale": [
             [
              0,
              "#0d0887"
             ],
             [
              0.1111111111111111,
              "#46039f"
             ],
             [
              0.2222222222222222,
              "#7201a8"
             ],
             [
              0.3333333333333333,
              "#9c179e"
             ],
             [
              0.4444444444444444,
              "#bd3786"
             ],
             [
              0.5555555555555556,
              "#d8576b"
             ],
             [
              0.6666666666666666,
              "#ed7953"
             ],
             [
              0.7777777777777778,
              "#fb9f3a"
             ],
             [
              0.8888888888888888,
              "#fdca26"
             ],
             [
              1,
              "#f0f921"
             ]
            ],
            "type": "heatmapgl"
           }
          ],
          "histogram": [
           {
            "marker": {
             "pattern": {
              "fillmode": "overlay",
              "size": 10,
              "solidity": 0.2
             }
            },
            "type": "histogram"
           }
          ],
          "histogram2d": [
           {
            "colorbar": {
             "outlinewidth": 0,
             "ticks": ""
            },
            "colorscale": [
             [
              0,
              "#0d0887"
             ],
             [
              0.1111111111111111,
              "#46039f"
             ],
             [
              0.2222222222222222,
              "#7201a8"
             ],
             [
              0.3333333333333333,
              "#9c179e"
             ],
             [
              0.4444444444444444,
              "#bd3786"
             ],
             [
              0.5555555555555556,
              "#d8576b"
             ],
             [
              0.6666666666666666,
              "#ed7953"
             ],
             [
              0.7777777777777778,
              "#fb9f3a"
             ],
             [
              0.8888888888888888,
              "#fdca26"
             ],
             [
              1,
              "#f0f921"
             ]
            ],
            "type": "histogram2d"
           }
          ],
          "histogram2dcontour": [
           {
            "colorbar": {
             "outlinewidth": 0,
             "ticks": ""
            },
            "colorscale": [
             [
              0,
              "#0d0887"
             ],
             [
              0.1111111111111111,
              "#46039f"
             ],
             [
              0.2222222222222222,
              "#7201a8"
             ],
             [
              0.3333333333333333,
              "#9c179e"
             ],
             [
              0.4444444444444444,
              "#bd3786"
             ],
             [
              0.5555555555555556,
              "#d8576b"
             ],
             [
              0.6666666666666666,
              "#ed7953"
             ],
             [
              0.7777777777777778,
              "#fb9f3a"
             ],
             [
              0.8888888888888888,
              "#fdca26"
             ],
             [
              1,
              "#f0f921"
             ]
            ],
            "type": "histogram2dcontour"
           }
          ],
          "mesh3d": [
           {
            "colorbar": {
             "outlinewidth": 0,
             "ticks": ""
            },
            "type": "mesh3d"
           }
          ],
          "parcoords": [
           {
            "line": {
             "colorbar": {
              "outlinewidth": 0,
              "ticks": ""
             }
            },
            "type": "parcoords"
           }
          ],
          "pie": [
           {
            "automargin": true,
            "type": "pie"
           }
          ],
          "scatter": [
           {
            "fillpattern": {
             "fillmode": "overlay",
             "size": 10,
             "solidity": 0.2
            },
            "type": "scatter"
           }
          ],
          "scatter3d": [
           {
            "line": {
             "colorbar": {
              "outlinewidth": 0,
              "ticks": ""
             }
            },
            "marker": {
             "colorbar": {
              "outlinewidth": 0,
              "ticks": ""
             }
            },
            "type": "scatter3d"
           }
          ],
          "scattercarpet": [
           {
            "marker": {
             "colorbar": {
              "outlinewidth": 0,
              "ticks": ""
             }
            },
            "type": "scattercarpet"
           }
          ],
          "scattergeo": [
           {
            "marker": {
             "colorbar": {
              "outlinewidth": 0,
              "ticks": ""
             }
            },
            "type": "scattergeo"
           }
          ],
          "scattergl": [
           {
            "marker": {
             "colorbar": {
              "outlinewidth": 0,
              "ticks": ""
             }
            },
            "type": "scattergl"
           }
          ],
          "scattermapbox": [
           {
            "marker": {
             "colorbar": {
              "outlinewidth": 0,
              "ticks": ""
             }
            },
            "type": "scattermapbox"
           }
          ],
          "scatterpolar": [
           {
            "marker": {
             "colorbar": {
              "outlinewidth": 0,
              "ticks": ""
             }
            },
            "type": "scatterpolar"
           }
          ],
          "scatterpolargl": [
           {
            "marker": {
             "colorbar": {
              "outlinewidth": 0,
              "ticks": ""
             }
            },
            "type": "scatterpolargl"
           }
          ],
          "scatterternary": [
           {
            "marker": {
             "colorbar": {
              "outlinewidth": 0,
              "ticks": ""
             }
            },
            "type": "scatterternary"
           }
          ],
          "surface": [
           {
            "colorbar": {
             "outlinewidth": 0,
             "ticks": ""
            },
            "colorscale": [
             [
              0,
              "#0d0887"
             ],
             [
              0.1111111111111111,
              "#46039f"
             ],
             [
              0.2222222222222222,
              "#7201a8"
             ],
             [
              0.3333333333333333,
              "#9c179e"
             ],
             [
              0.4444444444444444,
              "#bd3786"
             ],
             [
              0.5555555555555556,
              "#d8576b"
             ],
             [
              0.6666666666666666,
              "#ed7953"
             ],
             [
              0.7777777777777778,
              "#fb9f3a"
             ],
             [
              0.8888888888888888,
              "#fdca26"
             ],
             [
              1,
              "#f0f921"
             ]
            ],
            "type": "surface"
           }
          ],
          "table": [
           {
            "cells": {
             "fill": {
              "color": "#EBF0F8"
             },
             "line": {
              "color": "white"
             }
            },
            "header": {
             "fill": {
              "color": "#C8D4E3"
             },
             "line": {
              "color": "white"
             }
            },
            "type": "table"
           }
          ]
         },
         "layout": {
          "annotationdefaults": {
           "arrowcolor": "#2a3f5f",
           "arrowhead": 0,
           "arrowwidth": 1
          },
          "autotypenumbers": "strict",
          "coloraxis": {
           "colorbar": {
            "outlinewidth": 0,
            "ticks": ""
           }
          },
          "colorscale": {
           "diverging": [
            [
             0,
             "#8e0152"
            ],
            [
             0.1,
             "#c51b7d"
            ],
            [
             0.2,
             "#de77ae"
            ],
            [
             0.3,
             "#f1b6da"
            ],
            [
             0.4,
             "#fde0ef"
            ],
            [
             0.5,
             "#f7f7f7"
            ],
            [
             0.6,
             "#e6f5d0"
            ],
            [
             0.7,
             "#b8e186"
            ],
            [
             0.8,
             "#7fbc41"
            ],
            [
             0.9,
             "#4d9221"
            ],
            [
             1,
             "#276419"
            ]
           ],
           "sequential": [
            [
             0,
             "#0d0887"
            ],
            [
             0.1111111111111111,
             "#46039f"
            ],
            [
             0.2222222222222222,
             "#7201a8"
            ],
            [
             0.3333333333333333,
             "#9c179e"
            ],
            [
             0.4444444444444444,
             "#bd3786"
            ],
            [
             0.5555555555555556,
             "#d8576b"
            ],
            [
             0.6666666666666666,
             "#ed7953"
            ],
            [
             0.7777777777777778,
             "#fb9f3a"
            ],
            [
             0.8888888888888888,
             "#fdca26"
            ],
            [
             1,
             "#f0f921"
            ]
           ],
           "sequentialminus": [
            [
             0,
             "#0d0887"
            ],
            [
             0.1111111111111111,
             "#46039f"
            ],
            [
             0.2222222222222222,
             "#7201a8"
            ],
            [
             0.3333333333333333,
             "#9c179e"
            ],
            [
             0.4444444444444444,
             "#bd3786"
            ],
            [
             0.5555555555555556,
             "#d8576b"
            ],
            [
             0.6666666666666666,
             "#ed7953"
            ],
            [
             0.7777777777777778,
             "#fb9f3a"
            ],
            [
             0.8888888888888888,
             "#fdca26"
            ],
            [
             1,
             "#f0f921"
            ]
           ]
          },
          "colorway": [
           "#636efa",
           "#EF553B",
           "#00cc96",
           "#ab63fa",
           "#FFA15A",
           "#19d3f3",
           "#FF6692",
           "#B6E880",
           "#FF97FF",
           "#FECB52"
          ],
          "font": {
           "color": "#2a3f5f"
          },
          "geo": {
           "bgcolor": "white",
           "lakecolor": "white",
           "landcolor": "#E5ECF6",
           "showlakes": true,
           "showland": true,
           "subunitcolor": "white"
          },
          "hoverlabel": {
           "align": "left"
          },
          "hovermode": "closest",
          "mapbox": {
           "style": "light"
          },
          "paper_bgcolor": "white",
          "plot_bgcolor": "#E5ECF6",
          "polar": {
           "angularaxis": {
            "gridcolor": "white",
            "linecolor": "white",
            "ticks": ""
           },
           "bgcolor": "#E5ECF6",
           "radialaxis": {
            "gridcolor": "white",
            "linecolor": "white",
            "ticks": ""
           }
          },
          "scene": {
           "xaxis": {
            "backgroundcolor": "#E5ECF6",
            "gridcolor": "white",
            "gridwidth": 2,
            "linecolor": "white",
            "showbackground": true,
            "ticks": "",
            "zerolinecolor": "white"
           },
           "yaxis": {
            "backgroundcolor": "#E5ECF6",
            "gridcolor": "white",
            "gridwidth": 2,
            "linecolor": "white",
            "showbackground": true,
            "ticks": "",
            "zerolinecolor": "white"
           },
           "zaxis": {
            "backgroundcolor": "#E5ECF6",
            "gridcolor": "white",
            "gridwidth": 2,
            "linecolor": "white",
            "showbackground": true,
            "ticks": "",
            "zerolinecolor": "white"
           }
          },
          "shapedefaults": {
           "line": {
            "color": "#2a3f5f"
           }
          },
          "ternary": {
           "aaxis": {
            "gridcolor": "white",
            "linecolor": "white",
            "ticks": ""
           },
           "baxis": {
            "gridcolor": "white",
            "linecolor": "white",
            "ticks": ""
           },
           "bgcolor": "#E5ECF6",
           "caxis": {
            "gridcolor": "white",
            "linecolor": "white",
            "ticks": ""
           }
          },
          "title": {
           "x": 0.05
          },
          "xaxis": {
           "automargin": true,
           "gridcolor": "white",
           "linecolor": "white",
           "ticks": "",
           "title": {
            "standoff": 15
           },
           "zerolinecolor": "white",
           "zerolinewidth": 2
          },
          "yaxis": {
           "automargin": true,
           "gridcolor": "white",
           "linecolor": "white",
           "ticks": "",
           "title": {
            "standoff": 15
           },
           "zerolinecolor": "white",
           "zerolinewidth": 2
          }
         }
        },
        "title": {
         "text": "Mapa de calor da matriz de correlações"
        }
       }
      }
     },
     "metadata": {},
     "output_type": "display_data"
    }
   ],
   "source": [
    "# Create heatmap\n",
    "heatmap = go.Heatmap(\n",
    "    z=corr,\n",
    "    x=df_athletes_activities_features.columns,\n",
    "    y=df_athletes_activities_features.columns,\n",
    "    colorscale='Blues',\n",
    "    zmin=-1,\n",
    "    zmax=1\n",
    ")\n",
    "\n",
    "# Create figure and add trace\n",
    "fig = go.Figure(heatmap)\n",
    "\n",
    "# Update layout\n",
    "fig.update_layout(title='Mapa de calor da matriz de correlações')\n",
    "\n",
    "# Display the figure\n",
    "fig.show()"
   ]
  },
  {
   "cell_type": "code",
   "execution_count": 31,
   "metadata": {},
   "outputs": [
    {
     "data": {
      "text/html": [
       "<div>\n",
       "<style scoped>\n",
       "    .dataframe tbody tr th:only-of-type {\n",
       "        vertical-align: middle;\n",
       "    }\n",
       "\n",
       "    .dataframe tbody tr th {\n",
       "        vertical-align: top;\n",
       "    }\n",
       "\n",
       "    .dataframe thead th {\n",
       "        text-align: right;\n",
       "    }\n",
       "</style>\n",
       "<table border=\"1\" class=\"dataframe\">\n",
       "  <thead>\n",
       "    <tr style=\"text-align: right;\">\n",
       "      <th></th>\n",
       "      <th>Feature</th>\n",
       "      <th>p-value</th>\n",
       "      <th>p-value Significante</th>\n",
       "    </tr>\n",
       "  </thead>\n",
       "  <tbody>\n",
       "    <tr>\n",
       "      <th>0</th>\n",
       "      <td>total_distance (km)</td>\n",
       "      <td>0.365</td>\n",
       "      <td>False</td>\n",
       "    </tr>\n",
       "    <tr>\n",
       "      <th>1</th>\n",
       "      <td>total_time (min)</td>\n",
       "      <td>0.051</td>\n",
       "      <td>False</td>\n",
       "    </tr>\n",
       "    <tr>\n",
       "      <th>2</th>\n",
       "      <td>pace (min/km)</td>\n",
       "      <td>0.008</td>\n",
       "      <td>True</td>\n",
       "    </tr>\n",
       "    <tr>\n",
       "      <th>3</th>\n",
       "      <td>speed (km/h)</td>\n",
       "      <td>0.287</td>\n",
       "      <td>False</td>\n",
       "    </tr>\n",
       "    <tr>\n",
       "      <th>4</th>\n",
       "      <td>weekly_frequency</td>\n",
       "      <td>0.000</td>\n",
       "      <td>True</td>\n",
       "    </tr>\n",
       "    <tr>\n",
       "      <th>5</th>\n",
       "      <td>days_since_last_activity</td>\n",
       "      <td>0.000</td>\n",
       "      <td>True</td>\n",
       "    </tr>\n",
       "  </tbody>\n",
       "</table>\n",
       "</div>"
      ],
      "text/plain": [
       "                    Feature  p-value  p-value Significante\n",
       "0       total_distance (km)    0.365                 False\n",
       "1          total_time (min)    0.051                 False\n",
       "2             pace (min/km)    0.008                  True\n",
       "3              speed (km/h)    0.287                 False\n",
       "4          weekly_frequency    0.000                  True\n",
       "5  days_since_last_activity    0.000                  True"
      ]
     },
     "execution_count": 31,
     "metadata": {},
     "output_type": "execute_result"
    }
   ],
   "source": [
    "# Teste de Mann-Whitney U para diferenciação das features em relação ao target\n",
    "mannwhitneyu_dict = {\n",
    "    \"Feature\": [],\n",
    "    \"p-value\": []\n",
    "}\n",
    "\n",
    "\n",
    "for feature in df_athletes_activities_features.columns:\n",
    "    sem_lesao = df_athletes_activities.loc[df_athletes_activities['will_churn'] == 0 , feature]\n",
    "    com_lesao = df_athletes_activities.loc[df_athletes_activities['will_churn'] == 1 , feature]\n",
    "\n",
    "    U1, p = mannwhitneyu(sem_lesao, com_lesao, method=\"auto\")\n",
    "    U2, p = mannwhitneyu(com_lesao, sem_lesao, method=\"auto\")\n",
    "\n",
    "    mannwhitneyu_dict[\"Feature\"].append(feature)\n",
    "    mannwhitneyu_dict[\"p-value\"].append(round(p, 3))\n",
    "\n",
    "df_mannwhitneyu = pd.DataFrame(mannwhitneyu_dict).reset_index(drop = True)\n",
    "\n",
    "df_mannwhitneyu['p-value Significante'] = df_mannwhitneyu['p-value'] < 0.05\n",
    "df_mannwhitneyu"
   ]
  }
 ],
 "metadata": {
  "kernelspec": {
   "display_name": "Python 3",
   "language": "python",
   "name": "python3"
  },
  "language_info": {
   "codemirror_mode": {
    "name": "ipython",
    "version": 3
   },
   "file_extension": ".py",
   "mimetype": "text/x-python",
   "name": "python",
   "nbconvert_exporter": "python",
   "pygments_lexer": "ipython3",
   "version": "3.12.4"
  }
 },
 "nbformat": 4,
 "nbformat_minor": 2
}
