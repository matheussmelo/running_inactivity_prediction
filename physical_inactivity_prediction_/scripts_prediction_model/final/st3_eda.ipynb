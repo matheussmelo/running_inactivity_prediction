{
 "cells": [
  {
   "cell_type": "markdown",
   "metadata": {},
   "source": [
    "#### Etapa 3 - Análise exploratória dos dados (EDA)"
   ]
  },
  {
   "cell_type": "code",
   "execution_count": 1,
   "metadata": {},
   "outputs": [],
   "source": [
    "import pandas as pd\n",
    "import numpy as np\n",
    "from scipy.stats import shapiro\n",
    "import seaborn as sns\n",
    "import matplotlib.pyplot as plt\n",
    "import plotly.graph_objects as go\n",
    "import plotly.express as px\n",
    "import warnings\n",
    "from scipy.stats import mannwhitneyu\n",
    "from sklearn.preprocessing import MinMaxScaler, StandardScaler\n",
    "\n",
    "warnings.filterwarnings(action='ignore')"
   ]
  },
  {
   "cell_type": "markdown",
   "metadata": {},
   "source": [
    "### Importação do Dataframe para EDA com as features"
   ]
  },
  {
   "cell_type": "code",
   "execution_count": 2,
   "metadata": {},
   "outputs": [
    {
     "data": {
      "application/vnd.plotly.v1+json": {
       "config": {
        "plotlyServerURL": "https://plot.ly"
       },
       "data": [
        {
         "domain": {
          "x": [
           0,
           1
          ],
          "y": [
           0,
           1
          ]
         },
         "hovertemplate": "label=%{label}<br>value=%{value}<extra></extra>",
         "labels": [
          "Active",
          "Will be Inactive"
         ],
         "legendgroup": "",
         "name": "",
         "showlegend": true,
         "type": "pie",
         "values": [
          584,
          140
         ]
        }
       ],
       "layout": {
        "height": 400,
        "legend": {
         "tracegroupgap": 0
        },
        "piecolorway": [
         "skyblue",
         "black"
        ],
        "template": {
         "data": {
          "bar": [
           {
            "error_x": {
             "color": "#2a3f5f"
            },
            "error_y": {
             "color": "#2a3f5f"
            },
            "marker": {
             "line": {
              "color": "#E5ECF6",
              "width": 0.5
             },
             "pattern": {
              "fillmode": "overlay",
              "size": 10,
              "solidity": 0.2
             }
            },
            "type": "bar"
           }
          ],
          "barpolar": [
           {
            "marker": {
             "line": {
              "color": "#E5ECF6",
              "width": 0.5
             },
             "pattern": {
              "fillmode": "overlay",
              "size": 10,
              "solidity": 0.2
             }
            },
            "type": "barpolar"
           }
          ],
          "carpet": [
           {
            "aaxis": {
             "endlinecolor": "#2a3f5f",
             "gridcolor": "white",
             "linecolor": "white",
             "minorgridcolor": "white",
             "startlinecolor": "#2a3f5f"
            },
            "baxis": {
             "endlinecolor": "#2a3f5f",
             "gridcolor": "white",
             "linecolor": "white",
             "minorgridcolor": "white",
             "startlinecolor": "#2a3f5f"
            },
            "type": "carpet"
           }
          ],
          "choropleth": [
           {
            "colorbar": {
             "outlinewidth": 0,
             "ticks": ""
            },
            "type": "choropleth"
           }
          ],
          "contour": [
           {
            "colorbar": {
             "outlinewidth": 0,
             "ticks": ""
            },
            "colorscale": [
             [
              0,
              "#0d0887"
             ],
             [
              0.1111111111111111,
              "#46039f"
             ],
             [
              0.2222222222222222,
              "#7201a8"
             ],
             [
              0.3333333333333333,
              "#9c179e"
             ],
             [
              0.4444444444444444,
              "#bd3786"
             ],
             [
              0.5555555555555556,
              "#d8576b"
             ],
             [
              0.6666666666666666,
              "#ed7953"
             ],
             [
              0.7777777777777778,
              "#fb9f3a"
             ],
             [
              0.8888888888888888,
              "#fdca26"
             ],
             [
              1,
              "#f0f921"
             ]
            ],
            "type": "contour"
           }
          ],
          "contourcarpet": [
           {
            "colorbar": {
             "outlinewidth": 0,
             "ticks": ""
            },
            "type": "contourcarpet"
           }
          ],
          "heatmap": [
           {
            "colorbar": {
             "outlinewidth": 0,
             "ticks": ""
            },
            "colorscale": [
             [
              0,
              "#0d0887"
             ],
             [
              0.1111111111111111,
              "#46039f"
             ],
             [
              0.2222222222222222,
              "#7201a8"
             ],
             [
              0.3333333333333333,
              "#9c179e"
             ],
             [
              0.4444444444444444,
              "#bd3786"
             ],
             [
              0.5555555555555556,
              "#d8576b"
             ],
             [
              0.6666666666666666,
              "#ed7953"
             ],
             [
              0.7777777777777778,
              "#fb9f3a"
             ],
             [
              0.8888888888888888,
              "#fdca26"
             ],
             [
              1,
              "#f0f921"
             ]
            ],
            "type": "heatmap"
           }
          ],
          "heatmapgl": [
           {
            "colorbar": {
             "outlinewidth": 0,
             "ticks": ""
            },
            "colorscale": [
             [
              0,
              "#0d0887"
             ],
             [
              0.1111111111111111,
              "#46039f"
             ],
             [
              0.2222222222222222,
              "#7201a8"
             ],
             [
              0.3333333333333333,
              "#9c179e"
             ],
             [
              0.4444444444444444,
              "#bd3786"
             ],
             [
              0.5555555555555556,
              "#d8576b"
             ],
             [
              0.6666666666666666,
              "#ed7953"
             ],
             [
              0.7777777777777778,
              "#fb9f3a"
             ],
             [
              0.8888888888888888,
              "#fdca26"
             ],
             [
              1,
              "#f0f921"
             ]
            ],
            "type": "heatmapgl"
           }
          ],
          "histogram": [
           {
            "marker": {
             "pattern": {
              "fillmode": "overlay",
              "size": 10,
              "solidity": 0.2
             }
            },
            "type": "histogram"
           }
          ],
          "histogram2d": [
           {
            "colorbar": {
             "outlinewidth": 0,
             "ticks": ""
            },
            "colorscale": [
             [
              0,
              "#0d0887"
             ],
             [
              0.1111111111111111,
              "#46039f"
             ],
             [
              0.2222222222222222,
              "#7201a8"
             ],
             [
              0.3333333333333333,
              "#9c179e"
             ],
             [
              0.4444444444444444,
              "#bd3786"
             ],
             [
              0.5555555555555556,
              "#d8576b"
             ],
             [
              0.6666666666666666,
              "#ed7953"
             ],
             [
              0.7777777777777778,
              "#fb9f3a"
             ],
             [
              0.8888888888888888,
              "#fdca26"
             ],
             [
              1,
              "#f0f921"
             ]
            ],
            "type": "histogram2d"
           }
          ],
          "histogram2dcontour": [
           {
            "colorbar": {
             "outlinewidth": 0,
             "ticks": ""
            },
            "colorscale": [
             [
              0,
              "#0d0887"
             ],
             [
              0.1111111111111111,
              "#46039f"
             ],
             [
              0.2222222222222222,
              "#7201a8"
             ],
             [
              0.3333333333333333,
              "#9c179e"
             ],
             [
              0.4444444444444444,
              "#bd3786"
             ],
             [
              0.5555555555555556,
              "#d8576b"
             ],
             [
              0.6666666666666666,
              "#ed7953"
             ],
             [
              0.7777777777777778,
              "#fb9f3a"
             ],
             [
              0.8888888888888888,
              "#fdca26"
             ],
             [
              1,
              "#f0f921"
             ]
            ],
            "type": "histogram2dcontour"
           }
          ],
          "mesh3d": [
           {
            "colorbar": {
             "outlinewidth": 0,
             "ticks": ""
            },
            "type": "mesh3d"
           }
          ],
          "parcoords": [
           {
            "line": {
             "colorbar": {
              "outlinewidth": 0,
              "ticks": ""
             }
            },
            "type": "parcoords"
           }
          ],
          "pie": [
           {
            "automargin": true,
            "type": "pie"
           }
          ],
          "scatter": [
           {
            "fillpattern": {
             "fillmode": "overlay",
             "size": 10,
             "solidity": 0.2
            },
            "type": "scatter"
           }
          ],
          "scatter3d": [
           {
            "line": {
             "colorbar": {
              "outlinewidth": 0,
              "ticks": ""
             }
            },
            "marker": {
             "colorbar": {
              "outlinewidth": 0,
              "ticks": ""
             }
            },
            "type": "scatter3d"
           }
          ],
          "scattercarpet": [
           {
            "marker": {
             "colorbar": {
              "outlinewidth": 0,
              "ticks": ""
             }
            },
            "type": "scattercarpet"
           }
          ],
          "scattergeo": [
           {
            "marker": {
             "colorbar": {
              "outlinewidth": 0,
              "ticks": ""
             }
            },
            "type": "scattergeo"
           }
          ],
          "scattergl": [
           {
            "marker": {
             "colorbar": {
              "outlinewidth": 0,
              "ticks": ""
             }
            },
            "type": "scattergl"
           }
          ],
          "scattermapbox": [
           {
            "marker": {
             "colorbar": {
              "outlinewidth": 0,
              "ticks": ""
             }
            },
            "type": "scattermapbox"
           }
          ],
          "scatterpolar": [
           {
            "marker": {
             "colorbar": {
              "outlinewidth": 0,
              "ticks": ""
             }
            },
            "type": "scatterpolar"
           }
          ],
          "scatterpolargl": [
           {
            "marker": {
             "colorbar": {
              "outlinewidth": 0,
              "ticks": ""
             }
            },
            "type": "scatterpolargl"
           }
          ],
          "scatterternary": [
           {
            "marker": {
             "colorbar": {
              "outlinewidth": 0,
              "ticks": ""
             }
            },
            "type": "scatterternary"
           }
          ],
          "surface": [
           {
            "colorbar": {
             "outlinewidth": 0,
             "ticks": ""
            },
            "colorscale": [
             [
              0,
              "#0d0887"
             ],
             [
              0.1111111111111111,
              "#46039f"
             ],
             [
              0.2222222222222222,
              "#7201a8"
             ],
             [
              0.3333333333333333,
              "#9c179e"
             ],
             [
              0.4444444444444444,
              "#bd3786"
             ],
             [
              0.5555555555555556,
              "#d8576b"
             ],
             [
              0.6666666666666666,
              "#ed7953"
             ],
             [
              0.7777777777777778,
              "#fb9f3a"
             ],
             [
              0.8888888888888888,
              "#fdca26"
             ],
             [
              1,
              "#f0f921"
             ]
            ],
            "type": "surface"
           }
          ],
          "table": [
           {
            "cells": {
             "fill": {
              "color": "#EBF0F8"
             },
             "line": {
              "color": "white"
             }
            },
            "header": {
             "fill": {
              "color": "#C8D4E3"
             },
             "line": {
              "color": "white"
             }
            },
            "type": "table"
           }
          ]
         },
         "layout": {
          "annotationdefaults": {
           "arrowcolor": "#2a3f5f",
           "arrowhead": 0,
           "arrowwidth": 1
          },
          "autotypenumbers": "strict",
          "coloraxis": {
           "colorbar": {
            "outlinewidth": 0,
            "ticks": ""
           }
          },
          "colorscale": {
           "diverging": [
            [
             0,
             "#8e0152"
            ],
            [
             0.1,
             "#c51b7d"
            ],
            [
             0.2,
             "#de77ae"
            ],
            [
             0.3,
             "#f1b6da"
            ],
            [
             0.4,
             "#fde0ef"
            ],
            [
             0.5,
             "#f7f7f7"
            ],
            [
             0.6,
             "#e6f5d0"
            ],
            [
             0.7,
             "#b8e186"
            ],
            [
             0.8,
             "#7fbc41"
            ],
            [
             0.9,
             "#4d9221"
            ],
            [
             1,
             "#276419"
            ]
           ],
           "sequential": [
            [
             0,
             "#0d0887"
            ],
            [
             0.1111111111111111,
             "#46039f"
            ],
            [
             0.2222222222222222,
             "#7201a8"
            ],
            [
             0.3333333333333333,
             "#9c179e"
            ],
            [
             0.4444444444444444,
             "#bd3786"
            ],
            [
             0.5555555555555556,
             "#d8576b"
            ],
            [
             0.6666666666666666,
             "#ed7953"
            ],
            [
             0.7777777777777778,
             "#fb9f3a"
            ],
            [
             0.8888888888888888,
             "#fdca26"
            ],
            [
             1,
             "#f0f921"
            ]
           ],
           "sequentialminus": [
            [
             0,
             "#0d0887"
            ],
            [
             0.1111111111111111,
             "#46039f"
            ],
            [
             0.2222222222222222,
             "#7201a8"
            ],
            [
             0.3333333333333333,
             "#9c179e"
            ],
            [
             0.4444444444444444,
             "#bd3786"
            ],
            [
             0.5555555555555556,
             "#d8576b"
            ],
            [
             0.6666666666666666,
             "#ed7953"
            ],
            [
             0.7777777777777778,
             "#fb9f3a"
            ],
            [
             0.8888888888888888,
             "#fdca26"
            ],
            [
             1,
             "#f0f921"
            ]
           ]
          },
          "colorway": [
           "#636efa",
           "#EF553B",
           "#00cc96",
           "#ab63fa",
           "#FFA15A",
           "#19d3f3",
           "#FF6692",
           "#B6E880",
           "#FF97FF",
           "#FECB52"
          ],
          "font": {
           "color": "#2a3f5f"
          },
          "geo": {
           "bgcolor": "white",
           "lakecolor": "white",
           "landcolor": "#E5ECF6",
           "showlakes": true,
           "showland": true,
           "subunitcolor": "white"
          },
          "hoverlabel": {
           "align": "left"
          },
          "hovermode": "closest",
          "mapbox": {
           "style": "light"
          },
          "paper_bgcolor": "white",
          "plot_bgcolor": "#E5ECF6",
          "polar": {
           "angularaxis": {
            "gridcolor": "white",
            "linecolor": "white",
            "ticks": ""
           },
           "bgcolor": "#E5ECF6",
           "radialaxis": {
            "gridcolor": "white",
            "linecolor": "white",
            "ticks": ""
           }
          },
          "scene": {
           "xaxis": {
            "backgroundcolor": "#E5ECF6",
            "gridcolor": "white",
            "gridwidth": 2,
            "linecolor": "white",
            "showbackground": true,
            "ticks": "",
            "zerolinecolor": "white"
           },
           "yaxis": {
            "backgroundcolor": "#E5ECF6",
            "gridcolor": "white",
            "gridwidth": 2,
            "linecolor": "white",
            "showbackground": true,
            "ticks": "",
            "zerolinecolor": "white"
           },
           "zaxis": {
            "backgroundcolor": "#E5ECF6",
            "gridcolor": "white",
            "gridwidth": 2,
            "linecolor": "white",
            "showbackground": true,
            "ticks": "",
            "zerolinecolor": "white"
           }
          },
          "shapedefaults": {
           "line": {
            "color": "#2a3f5f"
           }
          },
          "ternary": {
           "aaxis": {
            "gridcolor": "white",
            "linecolor": "white",
            "ticks": ""
           },
           "baxis": {
            "gridcolor": "white",
            "linecolor": "white",
            "ticks": ""
           },
           "bgcolor": "#E5ECF6",
           "caxis": {
            "gridcolor": "white",
            "linecolor": "white",
            "ticks": ""
           }
          },
          "title": {
           "x": 0.05
          },
          "xaxis": {
           "automargin": true,
           "gridcolor": "white",
           "linecolor": "white",
           "ticks": "",
           "title": {
            "standoff": 15
           },
           "zerolinecolor": "white",
           "zerolinewidth": 2
          },
          "yaxis": {
           "automargin": true,
           "gridcolor": "white",
           "linecolor": "white",
           "ticks": "",
           "title": {
            "standoff": 15
           },
           "zerolinecolor": "white",
           "zerolinewidth": 2
          }
         }
        },
        "title": {
         "text": "Active vs Will be Inactive"
        },
        "width": 700
       }
      }
     },
     "metadata": {},
     "output_type": "display_data"
    }
   ],
   "source": [
    "df_athletes_activities = pd.read_csv('C:/Users/USER/Desktop/EstudosDados/Projetos/Corrida/physical_inactivity_prediction/scripts_prediction_model/final/st2_df_athletes_activities.csv')\n",
    "df_athletes_activities\n",
    "\n",
    "labels=[\"Active\", \"Will be Inactive\"]\n",
    "\n",
    "activite_or_not = df_athletes_activities['will_churn'].value_counts().tolist()\n",
    "values = [activite_or_not[0], activite_or_not[1]]\n",
    "\n",
    "fig = px.pie(values=df_athletes_activities['will_churn'].value_counts(), names=labels , width=700, height=400, color_discrete_sequence=[\"skyblue\",\"black\"], title=\"Active vs Will be Inactive\")\n",
    "fig.show()"
   ]
  },
  {
   "cell_type": "code",
   "execution_count": 3,
   "metadata": {},
   "outputs": [
    {
     "data": {
      "text/html": [
       "<div>\n",
       "<style scoped>\n",
       "    .dataframe tbody tr th:only-of-type {\n",
       "        vertical-align: middle;\n",
       "    }\n",
       "\n",
       "    .dataframe tbody tr th {\n",
       "        vertical-align: top;\n",
       "    }\n",
       "\n",
       "    .dataframe thead th {\n",
       "        text-align: right;\n",
       "    }\n",
       "</style>\n",
       "<table border=\"1\" class=\"dataframe\">\n",
       "  <thead>\n",
       "    <tr style=\"text-align: right;\">\n",
       "      <th></th>\n",
       "      <th>total_distance (km)</th>\n",
       "      <th>total_time (min)</th>\n",
       "      <th>pace (min/km)</th>\n",
       "      <th>speed (km/h)</th>\n",
       "      <th>weekly_act_frequency</th>\n",
       "      <th>weekly_active_time</th>\n",
       "      <th>weekly_act_max_active_time</th>\n",
       "      <th>weekly_dist_traveled</th>\n",
       "      <th>weekly_act_max_dist_traveled</th>\n",
       "      <th>weekly_act_max_pace</th>\n",
       "      <th>weekly_act_max_speed</th>\n",
       "      <th>days_since_last_activity</th>\n",
       "      <th>binary_reincidence</th>\n",
       "      <th>accumulated_reincidence</th>\n",
       "    </tr>\n",
       "  </thead>\n",
       "  <tbody>\n",
       "    <tr>\n",
       "      <th>0</th>\n",
       "      <td>3.61</td>\n",
       "      <td>23.0</td>\n",
       "      <td>6.37</td>\n",
       "      <td>9.42</td>\n",
       "      <td>2</td>\n",
       "      <td>78.0</td>\n",
       "      <td>55.0</td>\n",
       "      <td>11.18</td>\n",
       "      <td>7.57</td>\n",
       "      <td>7.27</td>\n",
       "      <td>9.42</td>\n",
       "      <td>0</td>\n",
       "      <td>0</td>\n",
       "      <td>0</td>\n",
       "    </tr>\n",
       "    <tr>\n",
       "      <th>1</th>\n",
       "      <td>5.84</td>\n",
       "      <td>41.0</td>\n",
       "      <td>7.02</td>\n",
       "      <td>8.55</td>\n",
       "      <td>1</td>\n",
       "      <td>41.0</td>\n",
       "      <td>41.0</td>\n",
       "      <td>5.84</td>\n",
       "      <td>5.84</td>\n",
       "      <td>7.02</td>\n",
       "      <td>8.55</td>\n",
       "      <td>8</td>\n",
       "      <td>1</td>\n",
       "      <td>1</td>\n",
       "    </tr>\n",
       "    <tr>\n",
       "      <th>2</th>\n",
       "      <td>4.28</td>\n",
       "      <td>32.0</td>\n",
       "      <td>7.48</td>\n",
       "      <td>8.02</td>\n",
       "      <td>2</td>\n",
       "      <td>73.0</td>\n",
       "      <td>41.0</td>\n",
       "      <td>10.12</td>\n",
       "      <td>5.84</td>\n",
       "      <td>7.48</td>\n",
       "      <td>8.55</td>\n",
       "      <td>1</td>\n",
       "      <td>1</td>\n",
       "      <td>1</td>\n",
       "    </tr>\n",
       "    <tr>\n",
       "      <th>3</th>\n",
       "      <td>7.52</td>\n",
       "      <td>50.0</td>\n",
       "      <td>6.65</td>\n",
       "      <td>9.02</td>\n",
       "      <td>1</td>\n",
       "      <td>50.0</td>\n",
       "      <td>50.0</td>\n",
       "      <td>7.52</td>\n",
       "      <td>7.52</td>\n",
       "      <td>6.65</td>\n",
       "      <td>9.02</td>\n",
       "      <td>30</td>\n",
       "      <td>1</td>\n",
       "      <td>2</td>\n",
       "    </tr>\n",
       "    <tr>\n",
       "      <th>4</th>\n",
       "      <td>7.51</td>\n",
       "      <td>51.0</td>\n",
       "      <td>6.79</td>\n",
       "      <td>8.84</td>\n",
       "      <td>1</td>\n",
       "      <td>51.0</td>\n",
       "      <td>51.0</td>\n",
       "      <td>7.51</td>\n",
       "      <td>7.51</td>\n",
       "      <td>6.79</td>\n",
       "      <td>8.84</td>\n",
       "      <td>9</td>\n",
       "      <td>1</td>\n",
       "      <td>3</td>\n",
       "    </tr>\n",
       "    <tr>\n",
       "      <th>...</th>\n",
       "      <td>...</td>\n",
       "      <td>...</td>\n",
       "      <td>...</td>\n",
       "      <td>...</td>\n",
       "      <td>...</td>\n",
       "      <td>...</td>\n",
       "      <td>...</td>\n",
       "      <td>...</td>\n",
       "      <td>...</td>\n",
       "      <td>...</td>\n",
       "      <td>...</td>\n",
       "      <td>...</td>\n",
       "      <td>...</td>\n",
       "      <td>...</td>\n",
       "    </tr>\n",
       "    <tr>\n",
       "      <th>719</th>\n",
       "      <td>10.06</td>\n",
       "      <td>45.0</td>\n",
       "      <td>4.47</td>\n",
       "      <td>13.26</td>\n",
       "      <td>3</td>\n",
       "      <td>116.0</td>\n",
       "      <td>45.0</td>\n",
       "      <td>22.86</td>\n",
       "      <td>10.06</td>\n",
       "      <td>5.64</td>\n",
       "      <td>13.26</td>\n",
       "      <td>3</td>\n",
       "      <td>0</td>\n",
       "      <td>0</td>\n",
       "    </tr>\n",
       "    <tr>\n",
       "      <th>720</th>\n",
       "      <td>5.20</td>\n",
       "      <td>33.0</td>\n",
       "      <td>6.35</td>\n",
       "      <td>9.27</td>\n",
       "      <td>3</td>\n",
       "      <td>108.0</td>\n",
       "      <td>45.0</td>\n",
       "      <td>20.96</td>\n",
       "      <td>10.06</td>\n",
       "      <td>6.35</td>\n",
       "      <td>13.26</td>\n",
       "      <td>2</td>\n",
       "      <td>0</td>\n",
       "      <td>0</td>\n",
       "    </tr>\n",
       "    <tr>\n",
       "      <th>721</th>\n",
       "      <td>12.10</td>\n",
       "      <td>62.0</td>\n",
       "      <td>5.12</td>\n",
       "      <td>11.71</td>\n",
       "      <td>3</td>\n",
       "      <td>140.0</td>\n",
       "      <td>62.0</td>\n",
       "      <td>27.36</td>\n",
       "      <td>12.10</td>\n",
       "      <td>6.35</td>\n",
       "      <td>13.26</td>\n",
       "      <td>3</td>\n",
       "      <td>0</td>\n",
       "      <td>0</td>\n",
       "    </tr>\n",
       "    <tr>\n",
       "      <th>722</th>\n",
       "      <td>4.08</td>\n",
       "      <td>22.0</td>\n",
       "      <td>5.39</td>\n",
       "      <td>11.13</td>\n",
       "      <td>2</td>\n",
       "      <td>84.0</td>\n",
       "      <td>62.0</td>\n",
       "      <td>16.18</td>\n",
       "      <td>12.10</td>\n",
       "      <td>5.39</td>\n",
       "      <td>11.71</td>\n",
       "      <td>5</td>\n",
       "      <td>0</td>\n",
       "      <td>0</td>\n",
       "    </tr>\n",
       "    <tr>\n",
       "      <th>723</th>\n",
       "      <td>7.19</td>\n",
       "      <td>41.0</td>\n",
       "      <td>5.52</td>\n",
       "      <td>11.15</td>\n",
       "      <td>2</td>\n",
       "      <td>63.0</td>\n",
       "      <td>41.0</td>\n",
       "      <td>11.27</td>\n",
       "      <td>7.19</td>\n",
       "      <td>5.52</td>\n",
       "      <td>11.15</td>\n",
       "      <td>2</td>\n",
       "      <td>0</td>\n",
       "      <td>0</td>\n",
       "    </tr>\n",
       "  </tbody>\n",
       "</table>\n",
       "<p>724 rows × 14 columns</p>\n",
       "</div>"
      ],
      "text/plain": [
       "     total_distance (km)  total_time (min)  pace (min/km)  speed (km/h)  \\\n",
       "0                   3.61              23.0           6.37          9.42   \n",
       "1                   5.84              41.0           7.02          8.55   \n",
       "2                   4.28              32.0           7.48          8.02   \n",
       "3                   7.52              50.0           6.65          9.02   \n",
       "4                   7.51              51.0           6.79          8.84   \n",
       "..                   ...               ...            ...           ...   \n",
       "719                10.06              45.0           4.47         13.26   \n",
       "720                 5.20              33.0           6.35          9.27   \n",
       "721                12.10              62.0           5.12         11.71   \n",
       "722                 4.08              22.0           5.39         11.13   \n",
       "723                 7.19              41.0           5.52         11.15   \n",
       "\n",
       "     weekly_act_frequency  weekly_active_time  weekly_act_max_active_time  \\\n",
       "0                       2                78.0                        55.0   \n",
       "1                       1                41.0                        41.0   \n",
       "2                       2                73.0                        41.0   \n",
       "3                       1                50.0                        50.0   \n",
       "4                       1                51.0                        51.0   \n",
       "..                    ...                 ...                         ...   \n",
       "719                     3               116.0                        45.0   \n",
       "720                     3               108.0                        45.0   \n",
       "721                     3               140.0                        62.0   \n",
       "722                     2                84.0                        62.0   \n",
       "723                     2                63.0                        41.0   \n",
       "\n",
       "     weekly_dist_traveled  weekly_act_max_dist_traveled  weekly_act_max_pace  \\\n",
       "0                   11.18                          7.57                 7.27   \n",
       "1                    5.84                          5.84                 7.02   \n",
       "2                   10.12                          5.84                 7.48   \n",
       "3                    7.52                          7.52                 6.65   \n",
       "4                    7.51                          7.51                 6.79   \n",
       "..                    ...                           ...                  ...   \n",
       "719                 22.86                         10.06                 5.64   \n",
       "720                 20.96                         10.06                 6.35   \n",
       "721                 27.36                         12.10                 6.35   \n",
       "722                 16.18                         12.10                 5.39   \n",
       "723                 11.27                          7.19                 5.52   \n",
       "\n",
       "     weekly_act_max_speed  days_since_last_activity  binary_reincidence  \\\n",
       "0                    9.42                         0                   0   \n",
       "1                    8.55                         8                   1   \n",
       "2                    8.55                         1                   1   \n",
       "3                    9.02                        30                   1   \n",
       "4                    8.84                         9                   1   \n",
       "..                    ...                       ...                 ...   \n",
       "719                 13.26                         3                   0   \n",
       "720                 13.26                         2                   0   \n",
       "721                 13.26                         3                   0   \n",
       "722                 11.71                         5                   0   \n",
       "723                 11.15                         2                   0   \n",
       "\n",
       "     accumulated_reincidence  \n",
       "0                          0  \n",
       "1                          1  \n",
       "2                          1  \n",
       "3                          2  \n",
       "4                          3  \n",
       "..                       ...  \n",
       "719                        0  \n",
       "720                        0  \n",
       "721                        0  \n",
       "722                        0  \n",
       "723                        0  \n",
       "\n",
       "[724 rows x 14 columns]"
      ]
     },
     "execution_count": 3,
     "metadata": {},
     "output_type": "execute_result"
    }
   ],
   "source": [
    "df_athletes_activities_features = df_athletes_activities.loc[:, ~df_athletes_activities.columns.isin(['activity_date', 'athlete_id', 'will_churn'])]\n",
    "df_athletes_activities_features"
   ]
  },
  {
   "cell_type": "code",
   "execution_count": 4,
   "metadata": {},
   "outputs": [
    {
     "data": {
      "image/png": "[encoded data removed]",
      "text/plain": [
       "<Figure size 1200x1000 with 14 Axes>"
      ]
     },
     "metadata": {},
     "output_type": "display_data"
    }
   ],
   "source": [
    "# Definindo o número de colunas e linhas para os subplots\n",
    "num_cols = 2\n",
    "num_rows = int(np.ceil(len(df_athletes_activities_features.columns) / num_cols))\n",
    "\n",
    "# Criando a figura e os subplots\n",
    "fig, axes = plt.subplots(num_rows, num_cols, figsize=(12, 10))\n",
    "\n",
    "# Iterando sobre cada feature para criar um histograma\n",
    "for i, column in enumerate(df_athletes_activities_features.columns):\n",
    "    row = i // num_cols\n",
    "    col = i % num_cols\n",
    "    \n",
    "    sns.histplot(df_athletes_activities_features[column], bins=50, ax=axes[row, col], kde= True)\n",
    "\n",
    "# Ajustando o layout\n",
    "plt.tight_layout()\n",
    "plt.show()"
   ]
  },
  {
   "cell_type": "code",
   "execution_count": 5,
   "metadata": {},
   "outputs": [
    {
     "data": {
      "image/png": "[encoded data removed]",
      "text/plain": [
       "<Figure size 1200x800 with 14 Axes>"
      ]
     },
     "metadata": {},
     "output_type": "display_data"
    }
   ],
   "source": [
    "# Definindo o número de colunas e linhas para os subplots\n",
    "num_cols = 2\n",
    "num_rows = int(np.ceil(len(df_athletes_activities_features.columns) / num_cols))\n",
    "\n",
    "# Criando a figura e os subplots\n",
    "fig, axes = plt.subplots(num_rows, num_cols, figsize=(12, 8))\n",
    "\n",
    "# Iterando sobre cada feature para criar um histograma\n",
    "for i, column in enumerate(df_athletes_activities_features.columns):\n",
    "    row = i // num_cols\n",
    "    col = i % num_cols\n",
    "    \n",
    "    sns.boxplot(y = df_athletes_activities_features[column], x = df_athletes_activities['will_churn'], ax=axes[row, col])\n",
    "\n",
    "# Ajustando o layout\n",
    "plt.tight_layout()\n",
    "plt.show()"
   ]
  },
  {
   "cell_type": "markdown",
   "metadata": {},
   "source": [
    "#### Matriz de correlação"
   ]
  },
  {
   "cell_type": "code",
   "execution_count": 6,
   "metadata": {},
   "outputs": [
    {
     "data": {
      "text/html": [
       "<div>\n",
       "<style scoped>\n",
       "    .dataframe tbody tr th:only-of-type {\n",
       "        vertical-align: middle;\n",
       "    }\n",
       "\n",
       "    .dataframe tbody tr th {\n",
       "        vertical-align: top;\n",
       "    }\n",
       "\n",
       "    .dataframe thead th {\n",
       "        text-align: right;\n",
       "    }\n",
       "</style>\n",
       "<table border=\"1\" class=\"dataframe\">\n",
       "  <thead>\n",
       "    <tr style=\"text-align: right;\">\n",
       "      <th></th>\n",
       "      <th>total_distance (km)</th>\n",
       "      <th>total_time (min)</th>\n",
       "      <th>pace (min/km)</th>\n",
       "      <th>speed (km/h)</th>\n",
       "      <th>weekly_act_frequency</th>\n",
       "      <th>weekly_active_time</th>\n",
       "      <th>weekly_act_max_active_time</th>\n",
       "      <th>weekly_dist_traveled</th>\n",
       "      <th>weekly_act_max_dist_traveled</th>\n",
       "      <th>weekly_act_max_pace</th>\n",
       "      <th>weekly_act_max_speed</th>\n",
       "      <th>days_since_last_activity</th>\n",
       "      <th>binary_reincidence</th>\n",
       "      <th>accumulated_reincidence</th>\n",
       "    </tr>\n",
       "  </thead>\n",
       "  <tbody>\n",
       "    <tr>\n",
       "      <th>total_distance (km)</th>\n",
       "      <td>1.000000</td>\n",
       "      <td>0.875546</td>\n",
       "      <td>-0.323465</td>\n",
       "      <td>0.511025</td>\n",
       "      <td>0.392560</td>\n",
       "      <td>0.557107</td>\n",
       "      <td>0.589146</td>\n",
       "      <td>0.600181</td>\n",
       "      <td>0.656575</td>\n",
       "      <td>-0.138932</td>\n",
       "      <td>0.475724</td>\n",
       "      <td>-0.108243</td>\n",
       "      <td>0.014432</td>\n",
       "      <td>-0.182646</td>\n",
       "    </tr>\n",
       "    <tr>\n",
       "      <th>total_time (min)</th>\n",
       "      <td>0.875546</td>\n",
       "      <td>1.000000</td>\n",
       "      <td>0.037765</td>\n",
       "      <td>0.096352</td>\n",
       "      <td>0.253446</td>\n",
       "      <td>0.481126</td>\n",
       "      <td>0.599359</td>\n",
       "      <td>0.430286</td>\n",
       "      <td>0.521980</td>\n",
       "      <td>0.123864</td>\n",
       "      <td>0.173246</td>\n",
       "      <td>-0.081518</td>\n",
       "      <td>0.019667</td>\n",
       "      <td>-0.102768</td>\n",
       "    </tr>\n",
       "    <tr>\n",
       "      <th>pace (min/km)</th>\n",
       "      <td>-0.323465</td>\n",
       "      <td>0.037765</td>\n",
       "      <td>1.000000</td>\n",
       "      <td>-0.750706</td>\n",
       "      <td>-0.234806</td>\n",
       "      <td>-0.147855</td>\n",
       "      <td>-0.054255</td>\n",
       "      <td>-0.309206</td>\n",
       "      <td>-0.265828</td>\n",
       "      <td>0.682306</td>\n",
       "      <td>-0.543070</td>\n",
       "      <td>0.062700</td>\n",
       "      <td>-0.006875</td>\n",
       "      <td>0.123024</td>\n",
       "    </tr>\n",
       "    <tr>\n",
       "      <th>speed (km/h)</th>\n",
       "      <td>0.511025</td>\n",
       "      <td>0.096352</td>\n",
       "      <td>-0.750706</td>\n",
       "      <td>1.000000</td>\n",
       "      <td>0.435427</td>\n",
       "      <td>0.370109</td>\n",
       "      <td>0.236153</td>\n",
       "      <td>0.533324</td>\n",
       "      <td>0.468821</td>\n",
       "      <td>-0.520927</td>\n",
       "      <td>0.784181</td>\n",
       "      <td>-0.108077</td>\n",
       "      <td>0.027541</td>\n",
       "      <td>-0.215302</td>\n",
       "    </tr>\n",
       "    <tr>\n",
       "      <th>weekly_act_frequency</th>\n",
       "      <td>0.392560</td>\n",
       "      <td>0.253446</td>\n",
       "      <td>-0.234806</td>\n",
       "      <td>0.435427</td>\n",
       "      <td>1.000000</td>\n",
       "      <td>0.893514</td>\n",
       "      <td>0.550979</td>\n",
       "      <td>0.885259</td>\n",
       "      <td>0.641076</td>\n",
       "      <td>0.038259</td>\n",
       "      <td>0.718241</td>\n",
       "      <td>-0.259736</td>\n",
       "      <td>0.049893</td>\n",
       "      <td>-0.382398</td>\n",
       "    </tr>\n",
       "    <tr>\n",
       "      <th>weekly_active_time</th>\n",
       "      <td>0.557107</td>\n",
       "      <td>0.481126</td>\n",
       "      <td>-0.147855</td>\n",
       "      <td>0.370109</td>\n",
       "      <td>0.893514</td>\n",
       "      <td>1.000000</td>\n",
       "      <td>0.808037</td>\n",
       "      <td>0.960785</td>\n",
       "      <td>0.820579</td>\n",
       "      <td>0.125978</td>\n",
       "      <td>0.643734</td>\n",
       "      <td>-0.219806</td>\n",
       "      <td>0.075021</td>\n",
       "      <td>-0.332064</td>\n",
       "    </tr>\n",
       "    <tr>\n",
       "      <th>weekly_act_max_active_time</th>\n",
       "      <td>0.589146</td>\n",
       "      <td>0.599359</td>\n",
       "      <td>-0.054255</td>\n",
       "      <td>0.236153</td>\n",
       "      <td>0.550979</td>\n",
       "      <td>0.808037</td>\n",
       "      <td>1.000000</td>\n",
       "      <td>0.752117</td>\n",
       "      <td>0.894979</td>\n",
       "      <td>0.151466</td>\n",
       "      <td>0.432548</td>\n",
       "      <td>-0.155884</td>\n",
       "      <td>-0.003785</td>\n",
       "      <td>-0.227527</td>\n",
       "    </tr>\n",
       "    <tr>\n",
       "      <th>weekly_dist_traveled</th>\n",
       "      <td>0.600181</td>\n",
       "      <td>0.430286</td>\n",
       "      <td>-0.309206</td>\n",
       "      <td>0.533324</td>\n",
       "      <td>0.885259</td>\n",
       "      <td>0.960785</td>\n",
       "      <td>0.752117</td>\n",
       "      <td>1.000000</td>\n",
       "      <td>0.868036</td>\n",
       "      <td>-0.083121</td>\n",
       "      <td>0.772127</td>\n",
       "      <td>-0.205669</td>\n",
       "      <td>0.071110</td>\n",
       "      <td>-0.350654</td>\n",
       "    </tr>\n",
       "    <tr>\n",
       "      <th>weekly_act_max_dist_traveled</th>\n",
       "      <td>0.656575</td>\n",
       "      <td>0.521980</td>\n",
       "      <td>-0.265828</td>\n",
       "      <td>0.468821</td>\n",
       "      <td>0.641076</td>\n",
       "      <td>0.820579</td>\n",
       "      <td>0.894979</td>\n",
       "      <td>0.868036</td>\n",
       "      <td>1.000000</td>\n",
       "      <td>-0.100415</td>\n",
       "      <td>0.671475</td>\n",
       "      <td>-0.168930</td>\n",
       "      <td>-0.013146</td>\n",
       "      <td>-0.290871</td>\n",
       "    </tr>\n",
       "    <tr>\n",
       "      <th>weekly_act_max_pace</th>\n",
       "      <td>-0.138932</td>\n",
       "      <td>0.123864</td>\n",
       "      <td>0.682306</td>\n",
       "      <td>-0.520927</td>\n",
       "      <td>0.038259</td>\n",
       "      <td>0.125978</td>\n",
       "      <td>0.151466</td>\n",
       "      <td>-0.083121</td>\n",
       "      <td>-0.100415</td>\n",
       "      <td>1.000000</td>\n",
       "      <td>-0.336305</td>\n",
       "      <td>-0.013797</td>\n",
       "      <td>-0.039829</td>\n",
       "      <td>-0.008568</td>\n",
       "    </tr>\n",
       "    <tr>\n",
       "      <th>weekly_act_max_speed</th>\n",
       "      <td>0.475724</td>\n",
       "      <td>0.173246</td>\n",
       "      <td>-0.543070</td>\n",
       "      <td>0.784181</td>\n",
       "      <td>0.718241</td>\n",
       "      <td>0.643734</td>\n",
       "      <td>0.432548</td>\n",
       "      <td>0.772127</td>\n",
       "      <td>0.671475</td>\n",
       "      <td>-0.336305</td>\n",
       "      <td>1.000000</td>\n",
       "      <td>-0.185710</td>\n",
       "      <td>0.011543</td>\n",
       "      <td>-0.338475</td>\n",
       "    </tr>\n",
       "    <tr>\n",
       "      <th>days_since_last_activity</th>\n",
       "      <td>-0.108243</td>\n",
       "      <td>-0.081518</td>\n",
       "      <td>0.062700</td>\n",
       "      <td>-0.108077</td>\n",
       "      <td>-0.259736</td>\n",
       "      <td>-0.219806</td>\n",
       "      <td>-0.155884</td>\n",
       "      <td>-0.205669</td>\n",
       "      <td>-0.168930</td>\n",
       "      <td>-0.013797</td>\n",
       "      <td>-0.185710</td>\n",
       "      <td>1.000000</td>\n",
       "      <td>0.056745</td>\n",
       "      <td>0.083362</td>\n",
       "    </tr>\n",
       "    <tr>\n",
       "      <th>binary_reincidence</th>\n",
       "      <td>0.014432</td>\n",
       "      <td>0.019667</td>\n",
       "      <td>-0.006875</td>\n",
       "      <td>0.027541</td>\n",
       "      <td>0.049893</td>\n",
       "      <td>0.075021</td>\n",
       "      <td>-0.003785</td>\n",
       "      <td>0.071110</td>\n",
       "      <td>-0.013146</td>\n",
       "      <td>-0.039829</td>\n",
       "      <td>0.011543</td>\n",
       "      <td>0.056745</td>\n",
       "      <td>1.000000</td>\n",
       "      <td>0.258277</td>\n",
       "    </tr>\n",
       "    <tr>\n",
       "      <th>accumulated_reincidence</th>\n",
       "      <td>-0.182646</td>\n",
       "      <td>-0.102768</td>\n",
       "      <td>0.123024</td>\n",
       "      <td>-0.215302</td>\n",
       "      <td>-0.382398</td>\n",
       "      <td>-0.332064</td>\n",
       "      <td>-0.227527</td>\n",
       "      <td>-0.350654</td>\n",
       "      <td>-0.290871</td>\n",
       "      <td>-0.008568</td>\n",
       "      <td>-0.338475</td>\n",
       "      <td>0.083362</td>\n",
       "      <td>0.258277</td>\n",
       "      <td>1.000000</td>\n",
       "    </tr>\n",
       "  </tbody>\n",
       "</table>\n",
       "</div>"
      ],
      "text/plain": [
       "                              total_distance (km)  total_time (min)  \\\n",
       "total_distance (km)                      1.000000          0.875546   \n",
       "total_time (min)                         0.875546          1.000000   \n",
       "pace (min/km)                           -0.323465          0.037765   \n",
       "speed (km/h)                             0.511025          0.096352   \n",
       "weekly_act_frequency                     0.392560          0.253446   \n",
       "weekly_active_time                       0.557107          0.481126   \n",
       "weekly_act_max_active_time               0.589146          0.599359   \n",
       "weekly_dist_traveled                     0.600181          0.430286   \n",
       "weekly_act_max_dist_traveled             0.656575          0.521980   \n",
       "weekly_act_max_pace                     -0.138932          0.123864   \n",
       "weekly_act_max_speed                     0.475724          0.173246   \n",
       "days_since_last_activity                -0.108243         -0.081518   \n",
       "binary_reincidence                       0.014432          0.019667   \n",
       "accumulated_reincidence                 -0.182646         -0.102768   \n",
       "\n",
       "                              pace (min/km)  speed (km/h)  \\\n",
       "total_distance (km)               -0.323465      0.511025   \n",
       "total_time (min)                   0.037765      0.096352   \n",
       "pace (min/km)                      1.000000     -0.750706   \n",
       "speed (km/h)                      -0.750706      1.000000   \n",
       "weekly_act_frequency              -0.234806      0.435427   \n",
       "weekly_active_time                -0.147855      0.370109   \n",
       "weekly_act_max_active_time        -0.054255      0.236153   \n",
       "weekly_dist_traveled              -0.309206      0.533324   \n",
       "weekly_act_max_dist_traveled      -0.265828      0.468821   \n",
       "weekly_act_max_pace                0.682306     -0.520927   \n",
       "weekly_act_max_speed              -0.543070      0.784181   \n",
       "days_since_last_activity           0.062700     -0.108077   \n",
       "binary_reincidence                -0.006875      0.027541   \n",
       "accumulated_reincidence            0.123024     -0.215302   \n",
       "\n",
       "                              weekly_act_frequency  weekly_active_time  \\\n",
       "total_distance (km)                       0.392560            0.557107   \n",
       "total_time (min)                          0.253446            0.481126   \n",
       "pace (min/km)                            -0.234806           -0.147855   \n",
       "speed (km/h)                              0.435427            0.370109   \n",
       "weekly_act_frequency                      1.000000            0.893514   \n",
       "weekly_active_time                        0.893514            1.000000   \n",
       "weekly_act_max_active_time                0.550979            0.808037   \n",
       "weekly_dist_traveled                      0.885259            0.960785   \n",
       "weekly_act_max_dist_traveled              0.641076            0.820579   \n",
       "weekly_act_max_pace                       0.038259            0.125978   \n",
       "weekly_act_max_speed                      0.718241            0.643734   \n",
       "days_since_last_activity                 -0.259736           -0.219806   \n",
       "binary_reincidence                        0.049893            0.075021   \n",
       "accumulated_reincidence                  -0.382398           -0.332064   \n",
       "\n",
       "                              weekly_act_max_active_time  \\\n",
       "total_distance (km)                             0.589146   \n",
       "total_time (min)                                0.599359   \n",
       "pace (min/km)                                  -0.054255   \n",
       "speed (km/h)                                    0.236153   \n",
       "weekly_act_frequency                            0.550979   \n",
       "weekly_active_time                              0.808037   \n",
       "weekly_act_max_active_time                      1.000000   \n",
       "weekly_dist_traveled                            0.752117   \n",
       "weekly_act_max_dist_traveled                    0.894979   \n",
       "weekly_act_max_pace                             0.151466   \n",
       "weekly_act_max_speed                            0.432548   \n",
       "days_since_last_activity                       -0.155884   \n",
       "binary_reincidence                             -0.003785   \n",
       "accumulated_reincidence                        -0.227527   \n",
       "\n",
       "                              weekly_dist_traveled  \\\n",
       "total_distance (km)                       0.600181   \n",
       "total_time (min)                          0.430286   \n",
       "pace (min/km)                            -0.309206   \n",
       "speed (km/h)                              0.533324   \n",
       "weekly_act_frequency                      0.885259   \n",
       "weekly_active_time                        0.960785   \n",
       "weekly_act_max_active_time                0.752117   \n",
       "weekly_dist_traveled                      1.000000   \n",
       "weekly_act_max_dist_traveled              0.868036   \n",
       "weekly_act_max_pace                      -0.083121   \n",
       "weekly_act_max_speed                      0.772127   \n",
       "days_since_last_activity                 -0.205669   \n",
       "binary_reincidence                        0.071110   \n",
       "accumulated_reincidence                  -0.350654   \n",
       "\n",
       "                              weekly_act_max_dist_traveled  \\\n",
       "total_distance (km)                               0.656575   \n",
       "total_time (min)                                  0.521980   \n",
       "pace (min/km)                                    -0.265828   \n",
       "speed (km/h)                                      0.468821   \n",
       "weekly_act_frequency                              0.641076   \n",
       "weekly_active_time                                0.820579   \n",
       "weekly_act_max_active_time                        0.894979   \n",
       "weekly_dist_traveled                              0.868036   \n",
       "weekly_act_max_dist_traveled                      1.000000   \n",
       "weekly_act_max_pace                              -0.100415   \n",
       "weekly_act_max_speed                              0.671475   \n",
       "days_since_last_activity                         -0.168930   \n",
       "binary_reincidence                               -0.013146   \n",
       "accumulated_reincidence                          -0.290871   \n",
       "\n",
       "                              weekly_act_max_pace  weekly_act_max_speed  \\\n",
       "total_distance (km)                     -0.138932              0.475724   \n",
       "total_time (min)                         0.123864              0.173246   \n",
       "pace (min/km)                            0.682306             -0.543070   \n",
       "speed (km/h)                            -0.520927              0.784181   \n",
       "weekly_act_frequency                     0.038259              0.718241   \n",
       "weekly_active_time                       0.125978              0.643734   \n",
       "weekly_act_max_active_time               0.151466              0.432548   \n",
       "weekly_dist_traveled                    -0.083121              0.772127   \n",
       "weekly_act_max_dist_traveled            -0.100415              0.671475   \n",
       "weekly_act_max_pace                      1.000000             -0.336305   \n",
       "weekly_act_max_speed                    -0.336305              1.000000   \n",
       "days_since_last_activity                -0.013797             -0.185710   \n",
       "binary_reincidence                      -0.039829              0.011543   \n",
       "accumulated_reincidence                 -0.008568             -0.338475   \n",
       "\n",
       "                              days_since_last_activity  binary_reincidence  \\\n",
       "total_distance (km)                          -0.108243            0.014432   \n",
       "total_time (min)                             -0.081518            0.019667   \n",
       "pace (min/km)                                 0.062700           -0.006875   \n",
       "speed (km/h)                                 -0.108077            0.027541   \n",
       "weekly_act_frequency                         -0.259736            0.049893   \n",
       "weekly_active_time                           -0.219806            0.075021   \n",
       "weekly_act_max_active_time                   -0.155884           -0.003785   \n",
       "weekly_dist_traveled                         -0.205669            0.071110   \n",
       "weekly_act_max_dist_traveled                 -0.168930           -0.013146   \n",
       "weekly_act_max_pace                          -0.013797           -0.039829   \n",
       "weekly_act_max_speed                         -0.185710            0.011543   \n",
       "days_since_last_activity                      1.000000            0.056745   \n",
       "binary_reincidence                            0.056745            1.000000   \n",
       "accumulated_reincidence                       0.083362            0.258277   \n",
       "\n",
       "                              accumulated_reincidence  \n",
       "total_distance (km)                         -0.182646  \n",
       "total_time (min)                            -0.102768  \n",
       "pace (min/km)                                0.123024  \n",
       "speed (km/h)                                -0.215302  \n",
       "weekly_act_frequency                        -0.382398  \n",
       "weekly_active_time                          -0.332064  \n",
       "weekly_act_max_active_time                  -0.227527  \n",
       "weekly_dist_traveled                        -0.350654  \n",
       "weekly_act_max_dist_traveled                -0.290871  \n",
       "weekly_act_max_pace                         -0.008568  \n",
       "weekly_act_max_speed                        -0.338475  \n",
       "days_since_last_activity                     0.083362  \n",
       "binary_reincidence                           0.258277  \n",
       "accumulated_reincidence                      1.000000  "
      ]
     },
     "execution_count": 6,
     "metadata": {},
     "output_type": "execute_result"
    }
   ],
   "source": [
    "# Análise de correlação das variáveis\n",
    "corr = df_athletes_activities_features.corr()\n",
    "corr"
   ]
  },
  {
   "cell_type": "code",
   "execution_count": 7,
   "metadata": {},
   "outputs": [
    {
     "data": {
      "application/vnd.plotly.v1+json": {
       "config": {
        "plotlyServerURL": "https://plot.ly"
       },
       "data": [
        {
         "colorscale": [
          [
           0,
           "rgb(247,251,255)"
          ],
          [
           0.125,
           "rgb(222,235,247)"
          ],
          [
           0.25,
           "rgb(198,219,239)"
          ],
          [
           0.375,
           "rgb(158,202,225)"
          ],
          [
           0.5,
           "rgb(107,174,214)"
          ],
          [
           0.625,
           "rgb(66,146,198)"
          ],
          [
           0.75,
           "rgb(33,113,181)"
          ],
          [
           0.875,
           "rgb(8,81,156)"
          ],
          [
           1,
           "rgb(8,48,107)"
          ]
         ],
         "type": "heatmap",
         "x": [
          "total_distance (km)",
          "total_time (min)",
          "pace (min/km)",
          "speed (km/h)",
          "weekly_act_frequency",
          "weekly_active_time",
          "weekly_act_max_active_time",
          "weekly_dist_traveled",
          "weekly_act_max_dist_traveled",
          "weekly_act_max_pace",
          "weekly_act_max_speed",
          "days_since_last_activity",
          "binary_reincidence",
          "accumulated_reincidence"
         ],
         "y": [
          "total_distance (km)",
          "total_time (min)",
          "pace (min/km)",
          "speed (km/h)",
          "weekly_act_frequency",
          "weekly_active_time",
          "weekly_act_max_active_time",
          "weekly_dist_traveled",
          "weekly_act_max_dist_traveled",
          "weekly_act_max_pace",
          "weekly_act_max_speed",
          "days_since_last_activity",
          "binary_reincidence",
          "accumulated_reincidence"
         ],
         "z": [
          [
           1,
           0.8755455401455872,
           -0.3234650397939541,
           0.5110247818912835,
           0.3925597963579719,
           0.5571070585520801,
           0.5891459690452516,
           0.6001808968128547,
           0.6565745960784606,
           -0.13893224909150187,
           0.475723725587072,
           -0.10824275375082527,
           0.01443219477873756,
           -0.18264560305363794
          ],
          [
           0.8755455401455872,
           1,
           0.037764761996617574,
           0.0963520577088125,
           0.25344634137936134,
           0.48112644590276893,
           0.5993592543998312,
           0.4302864027941569,
           0.5219796908292814,
           0.12386354673700385,
           0.17324597485073343,
           -0.08151768506756114,
           0.019666531243563518,
           -0.10276834204386842
          ],
          [
           -0.3234650397939541,
           0.037764761996617574,
           1,
           -0.7507064598356458,
           -0.23480638618009525,
           -0.147854566866563,
           -0.05425505155710812,
           -0.30920632998408076,
           -0.2658280357964683,
           0.6823062309145692,
           -0.5430696355327307,
           0.06269986945489624,
           -0.0068748921114086415,
           0.12302426341411246
          ],
          [
           0.5110247818912835,
           0.0963520577088125,
           -0.7507064598356458,
           1,
           0.4354267306952727,
           0.3701090762585814,
           0.23615272122837852,
           0.5333237848675162,
           0.468821355281318,
           -0.5209273824617938,
           0.784180756167952,
           -0.10807717539533701,
           0.027540572048806014,
           -0.21530212474507296
          ],
          [
           0.3925597963579719,
           0.25344634137936134,
           -0.23480638618009525,
           0.4354267306952727,
           1,
           0.8935141486670803,
           0.5509791673377763,
           0.885258676609096,
           0.6410755251677425,
           0.03825912801180254,
           0.7182408724660098,
           -0.25973594130914635,
           0.04989295693499866,
           -0.38239793293200114
          ],
          [
           0.5571070585520801,
           0.48112644590276893,
           -0.147854566866563,
           0.3701090762585814,
           0.8935141486670803,
           1,
           0.8080365111936668,
           0.9607852254099387,
           0.8205786574400401,
           0.12597755358316173,
           0.6437344001314942,
           -0.2198058101131025,
           0.07502110503837339,
           -0.332064252943833
          ],
          [
           0.5891459690452516,
           0.5993592543998312,
           -0.05425505155710812,
           0.23615272122837852,
           0.5509791673377763,
           0.8080365111936668,
           1,
           0.7521169732699907,
           0.8949788421164375,
           0.15146582406544987,
           0.4325483424685768,
           -0.15588448267504254,
           -0.0037849377494627336,
           -0.2275270616626158
          ],
          [
           0.6001808968128547,
           0.4302864027941569,
           -0.30920632998408076,
           0.5333237848675162,
           0.885258676609096,
           0.9607852254099387,
           0.7521169732699907,
           1,
           0.8680357415447185,
           -0.08312149723356195,
           0.7721265502418003,
           -0.20566884072533703,
           0.07111048791948296,
           -0.3506535772488648
          ],
          [
           0.6565745960784606,
           0.5219796908292814,
           -0.2658280357964683,
           0.468821355281318,
           0.6410755251677425,
           0.8205786574400401,
           0.8949788421164375,
           0.8680357415447185,
           1,
           -0.10041474207162046,
           0.6714749770319155,
           -0.16893033649504507,
           -0.013145936671674269,
           -0.29087065667860756
          ],
          [
           -0.13893224909150187,
           0.12386354673700385,
           0.6823062309145692,
           -0.5209273824617938,
           0.03825912801180254,
           0.12597755358316173,
           0.15146582406544987,
           -0.08312149723356195,
           -0.10041474207162046,
           1,
           -0.3363049693371912,
           -0.013797287982387678,
           -0.0398294696191063,
           -0.008568306976378906
          ],
          [
           0.475723725587072,
           0.17324597485073343,
           -0.5430696355327307,
           0.784180756167952,
           0.7182408724660098,
           0.6437344001314942,
           0.4325483424685768,
           0.7721265502418003,
           0.6714749770319155,
           -0.3363049693371912,
           1,
           -0.1857095565833026,
           0.01154289586037515,
           -0.3384748390325829
          ],
          [
           -0.10824275375082527,
           -0.08151768506756114,
           0.06269986945489624,
           -0.10807717539533701,
           -0.25973594130914635,
           -0.2198058101131025,
           -0.15588448267504254,
           -0.20566884072533703,
           -0.16893033649504507,
           -0.013797287982387678,
           -0.1857095565833026,
           1,
           0.05674493533519398,
           0.08336191582217863
          ],
          [
           0.01443219477873756,
           0.019666531243563518,
           -0.0068748921114086415,
           0.027540572048806014,
           0.04989295693499866,
           0.07502110503837339,
           -0.0037849377494627336,
           0.07111048791948296,
           -0.013145936671674269,
           -0.0398294696191063,
           0.01154289586037515,
           0.05674493533519398,
           1,
           0.25827688068366894
          ],
          [
           -0.18264560305363794,
           -0.10276834204386842,
           0.12302426341411246,
           -0.21530212474507296,
           -0.38239793293200114,
           -0.332064252943833,
           -0.2275270616626158,
           -0.3506535772488648,
           -0.29087065667860756,
           -0.008568306976378906,
           -0.3384748390325829,
           0.08336191582217863,
           0.25827688068366894,
           1
          ]
         ],
         "zmax": 1,
         "zmin": -1
        }
       ],
       "layout": {
        "template": {
         "data": {
          "bar": [
           {
            "error_x": {
             "color": "#2a3f5f"
            },
            "error_y": {
             "color": "#2a3f5f"
            },
            "marker": {
             "line": {
              "color": "#E5ECF6",
              "width": 0.5
             },
             "pattern": {
              "fillmode": "overlay",
              "size": 10,
              "solidity": 0.2
             }
            },
            "type": "bar"
           }
          ],
          "barpolar": [
           {
            "marker": {
             "line": {
              "color": "#E5ECF6",
              "width": 0.5
             },
             "pattern": {
              "fillmode": "overlay",
              "size": 10,
              "solidity": 0.2
             }
            },
            "type": "barpolar"
           }
          ],
          "carpet": [
           {
            "aaxis": {
             "endlinecolor": "#2a3f5f",
             "gridcolor": "white",
             "linecolor": "white",
             "minorgridcolor": "white",
             "startlinecolor": "#2a3f5f"
            },
            "baxis": {
             "endlinecolor": "#2a3f5f",
             "gridcolor": "white",
             "linecolor": "white",
             "minorgridcolor": "white",
             "startlinecolor": "#2a3f5f"
            },
            "type": "carpet"
           }
          ],
          "choropleth": [
           {
            "colorbar": {
             "outlinewidth": 0,
             "ticks": ""
            },
            "type": "choropleth"
           }
          ],
          "contour": [
           {
            "colorbar": {
             "outlinewidth": 0,
             "ticks": ""
            },
            "colorscale": [
             [
              0,
              "#0d0887"
             ],
             [
              0.1111111111111111,
              "#46039f"
             ],
             [
              0.2222222222222222,
              "#7201a8"
             ],
             [
              0.3333333333333333,
              "#9c179e"
             ],
             [
              0.4444444444444444,
              "#bd3786"
             ],
             [
              0.5555555555555556,
              "#d8576b"
             ],
             [
              0.6666666666666666,
              "#ed7953"
             ],
             [
              0.7777777777777778,
              "#fb9f3a"
             ],
             [
              0.8888888888888888,
              "#fdca26"
             ],
             [
              1,
              "#f0f921"
             ]
            ],
            "type": "contour"
           }
          ],
          "contourcarpet": [
           {
            "colorbar": {
             "outlinewidth": 0,
             "ticks": ""
            },
            "type": "contourcarpet"
           }
          ],
          "heatmap": [
           {
            "colorbar": {
             "outlinewidth": 0,
             "ticks": ""
            },
            "colorscale": [
             [
              0,
              "#0d0887"
             ],
             [
              0.1111111111111111,
              "#46039f"
             ],
             [
              0.2222222222222222,
              "#7201a8"
             ],
             [
              0.3333333333333333,
              "#9c179e"
             ],
             [
              0.4444444444444444,
              "#bd3786"
             ],
             [
              0.5555555555555556,
              "#d8576b"
             ],
             [
              0.6666666666666666,
              "#ed7953"
             ],
             [
              0.7777777777777778,
              "#fb9f3a"
             ],
             [
              0.8888888888888888,
              "#fdca26"
             ],
             [
              1,
              "#f0f921"
             ]
            ],
            "type": "heatmap"
           }
          ],
          "heatmapgl": [
           {
            "colorbar": {
             "outlinewidth": 0,
             "ticks": ""
            },
            "colorscale": [
             [
              0,
              "#0d0887"
             ],
             [
              0.1111111111111111,
              "#46039f"
             ],
             [
              0.2222222222222222,
              "#7201a8"
             ],
             [
              0.3333333333333333,
              "#9c179e"
             ],
             [
              0.4444444444444444,
              "#bd3786"
             ],
             [
              0.5555555555555556,
              "#d8576b"
             ],
             [
              0.6666666666666666,
              "#ed7953"
             ],
             [
              0.7777777777777778,
              "#fb9f3a"
             ],
             [
              0.8888888888888888,
              "#fdca26"
             ],
             [
              1,
              "#f0f921"
             ]
            ],
            "type": "heatmapgl"
           }
          ],
          "histogram": [
           {
            "marker": {
             "pattern": {
              "fillmode": "overlay",
              "size": 10,
              "solidity": 0.2
             }
            },
            "type": "histogram"
           }
          ],
          "histogram2d": [
           {
            "colorbar": {
             "outlinewidth": 0,
             "ticks": ""
            },
            "colorscale": [
             [
              0,
              "#0d0887"
             ],
             [
              0.1111111111111111,
              "#46039f"
             ],
             [
              0.2222222222222222,
              "#7201a8"
             ],
             [
              0.3333333333333333,
              "#9c179e"
             ],
             [
              0.4444444444444444,
              "#bd3786"
             ],
             [
              0.5555555555555556,
              "#d8576b"
             ],
             [
              0.6666666666666666,
              "#ed7953"
             ],
             [
              0.7777777777777778,
              "#fb9f3a"
             ],
             [
              0.8888888888888888,
              "#fdca26"
             ],
             [
              1,
              "#f0f921"
             ]
            ],
            "type": "histogram2d"
           }
          ],
          "histogram2dcontour": [
           {
            "colorbar": {
             "outlinewidth": 0,
             "ticks": ""
            },
            "colorscale": [
             [
              0,
              "#0d0887"
             ],
             [
              0.1111111111111111,
              "#46039f"
             ],
             [
              0.2222222222222222,
              "#7201a8"
             ],
             [
              0.3333333333333333,
              "#9c179e"
             ],
             [
              0.4444444444444444,
              "#bd3786"
             ],
             [
              0.5555555555555556,
              "#d8576b"
             ],
             [
              0.6666666666666666,
              "#ed7953"
             ],
             [
              0.7777777777777778,
              "#fb9f3a"
             ],
             [
              0.8888888888888888,
              "#fdca26"
             ],
             [
              1,
              "#f0f921"
             ]
            ],
            "type": "histogram2dcontour"
           }
          ],
          "mesh3d": [
           {
            "colorbar": {
             "outlinewidth": 0,
             "ticks": ""
            },
            "type": "mesh3d"
           }
          ],
          "parcoords": [
           {
            "line": {
             "colorbar": {
              "outlinewidth": 0,
              "ticks": ""
             }
            },
            "type": "parcoords"
           }
          ],
          "pie": [
           {
            "automargin": true,
            "type": "pie"
           }
          ],
          "scatter": [
           {
            "fillpattern": {
             "fillmode": "overlay",
             "size": 10,
             "solidity": 0.2
            },
            "type": "scatter"
           }
          ],
          "scatter3d": [
           {
            "line": {
             "colorbar": {
              "outlinewidth": 0,
              "ticks": ""
             }
            },
            "marker": {
             "colorbar": {
              "outlinewidth": 0,
              "ticks": ""
             }
            },
            "type": "scatter3d"
           }
          ],
          "scattercarpet": [
           {
            "marker": {
             "colorbar": {
              "outlinewidth": 0,
              "ticks": ""
             }
            },
            "type": "scattercarpet"
           }
          ],
          "scattergeo": [
           {
            "marker": {
             "colorbar": {
              "outlinewidth": 0,
              "ticks": ""
             }
            },
            "type": "scattergeo"
           }
          ],
          "scattergl": [
           {
            "marker": {
             "colorbar": {
              "outlinewidth": 0,
              "ticks": ""
             }
            },
            "type": "scattergl"
           }
          ],
          "scattermapbox": [
           {
            "marker": {
             "colorbar": {
              "outlinewidth": 0,
              "ticks": ""
             }
            },
            "type": "scattermapbox"
           }
          ],
          "scatterpolar": [
           {
            "marker": {
             "colorbar": {
              "outlinewidth": 0,
              "ticks": ""
             }
            },
            "type": "scatterpolar"
           }
          ],
          "scatterpolargl": [
           {
            "marker": {
             "colorbar": {
              "outlinewidth": 0,
              "ticks": ""
             }
            },
            "type": "scatterpolargl"
           }
          ],
          "scatterternary": [
           {
            "marker": {
             "colorbar": {
              "outlinewidth": 0,
              "ticks": ""
             }
            },
            "type": "scatterternary"
           }
          ],
          "surface": [
           {
            "colorbar": {
             "outlinewidth": 0,
             "ticks": ""
            },
            "colorscale": [
             [
              0,
              "#0d0887"
             ],
             [
              0.1111111111111111,
              "#46039f"
             ],
             [
              0.2222222222222222,
              "#7201a8"
             ],
             [
              0.3333333333333333,
              "#9c179e"
             ],
             [
              0.4444444444444444,
              "#bd3786"
             ],
             [
              0.5555555555555556,
              "#d8576b"
             ],
             [
              0.6666666666666666,
              "#ed7953"
             ],
             [
              0.7777777777777778,
              "#fb9f3a"
             ],
             [
              0.8888888888888888,
              "#fdca26"
             ],
             [
              1,
              "#f0f921"
             ]
            ],
            "type": "surface"
           }
          ],
          "table": [
           {
            "cells": {
             "fill": {
              "color": "#EBF0F8"
             },
             "line": {
              "color": "white"
             }
            },
            "header": {
             "fill": {
              "color": "#C8D4E3"
             },
             "line": {
              "color": "white"
             }
            },
            "type": "table"
           }
          ]
         },
         "layout": {
          "annotationdefaults": {
           "arrowcolor": "#2a3f5f",
           "arrowhead": 0,
           "arrowwidth": 1
          },
          "autotypenumbers": "strict",
          "coloraxis": {
           "colorbar": {
            "outlinewidth": 0,
            "ticks": ""
           }
          },
          "colorscale": {
           "diverging": [
            [
             0,
             "#8e0152"
            ],
            [
             0.1,
             "#c51b7d"
            ],
            [
             0.2,
             "#de77ae"
            ],
            [
             0.3,
             "#f1b6da"
            ],
            [
             0.4,
             "#fde0ef"
            ],
            [
             0.5,
             "#f7f7f7"
            ],
            [
             0.6,
             "#e6f5d0"
            ],
            [
             0.7,
             "#b8e186"
            ],
            [
             0.8,
             "#7fbc41"
            ],
            [
             0.9,
             "#4d9221"
            ],
            [
             1,
             "#276419"
            ]
           ],
           "sequential": [
            [
             0,
             "#0d0887"
            ],
            [
             0.1111111111111111,
             "#46039f"
            ],
            [
             0.2222222222222222,
             "#7201a8"
            ],
            [
             0.3333333333333333,
             "#9c179e"
            ],
            [
             0.4444444444444444,
             "#bd3786"
            ],
            [
             0.5555555555555556,
             "#d8576b"
            ],
            [
             0.6666666666666666,
             "#ed7953"
            ],
            [
             0.7777777777777778,
             "#fb9f3a"
            ],
            [
             0.8888888888888888,
             "#fdca26"
            ],
            [
             1,
             "#f0f921"
            ]
           ],
           "sequentialminus": [
            [
             0,
             "#0d0887"
            ],
            [
             0.1111111111111111,
             "#46039f"
            ],
            [
             0.2222222222222222,
             "#7201a8"
            ],
            [
             0.3333333333333333,
             "#9c179e"
            ],
            [
             0.4444444444444444,
             "#bd3786"
            ],
            [
             0.5555555555555556,
             "#d8576b"
            ],
            [
             0.6666666666666666,
             "#ed7953"
            ],
            [
             0.7777777777777778,
             "#fb9f3a"
            ],
            [
             0.8888888888888888,
             "#fdca26"
            ],
            [
             1,
             "#f0f921"
            ]
           ]
          },
          "colorway": [
           "#636efa",
           "#EF553B",
           "#00cc96",
           "#ab63fa",
           "#FFA15A",
           "#19d3f3",
           "#FF6692",
           "#B6E880",
           "#FF97FF",
           "#FECB52"
          ],
          "font": {
           "color": "#2a3f5f"
          },
          "geo": {
           "bgcolor": "white",
           "lakecolor": "white",
           "landcolor": "#E5ECF6",
           "showlakes": true,
           "showland": true,
           "subunitcolor": "white"
          },
          "hoverlabel": {
           "align": "left"
          },
          "hovermode": "closest",
          "mapbox": {
           "style": "light"
          },
          "paper_bgcolor": "white",
          "plot_bgcolor": "#E5ECF6",
          "polar": {
           "angularaxis": {
            "gridcolor": "white",
            "linecolor": "white",
            "ticks": ""
           },
           "bgcolor": "#E5ECF6",
           "radialaxis": {
            "gridcolor": "white",
            "linecolor": "white",
            "ticks": ""
           }
          },
          "scene": {
           "xaxis": {
            "backgroundcolor": "#E5ECF6",
            "gridcolor": "white",
            "gridwidth": 2,
            "linecolor": "white",
            "showbackground": true,
            "ticks": "",
            "zerolinecolor": "white"
           },
           "yaxis": {
            "backgroundcolor": "#E5ECF6",
            "gridcolor": "white",
            "gridwidth": 2,
            "linecolor": "white",
            "showbackground": true,
            "ticks": "",
            "zerolinecolor": "white"
           },
           "zaxis": {
            "backgroundcolor": "#E5ECF6",
            "gridcolor": "white",
            "gridwidth": 2,
            "linecolor": "white",
            "showbackground": true,
            "ticks": "",
            "zerolinecolor": "white"
           }
          },
          "shapedefaults": {
           "line": {
            "color": "#2a3f5f"
           }
          },
          "ternary": {
           "aaxis": {
            "gridcolor": "white",
            "linecolor": "white",
            "ticks": ""
           },
           "baxis": {
            "gridcolor": "white",
            "linecolor": "white",
            "ticks": ""
           },
           "bgcolor": "#E5ECF6",
           "caxis": {
            "gridcolor": "white",
            "linecolor": "white",
            "ticks": ""
           }
          },
          "title": {
           "x": 0.05
          },
          "xaxis": {
           "automargin": true,
           "gridcolor": "white",
           "linecolor": "white",
           "ticks": "",
           "title": {
            "standoff": 15
           },
           "zerolinecolor": "white",
           "zerolinewidth": 2
          },
          "yaxis": {
           "automargin": true,
           "gridcolor": "white",
           "linecolor": "white",
           "ticks": "",
           "title": {
            "standoff": 15
           },
           "zerolinecolor": "white",
           "zerolinewidth": 2
          }
         }
        },
        "title": {
         "text": "Mapa de calor da matriz de correlações"
        }
       }
      }
     },
     "metadata": {},
     "output_type": "display_data"
    }
   ],
   "source": [
    "# Create heatmap\n",
    "heatmap = go.Heatmap(\n",
    "    z=corr,\n",
    "    x=df_athletes_activities_features.columns,\n",
    "    y=df_athletes_activities_features.columns,\n",
    "    colorscale='Blues',\n",
    "    zmin=-1,\n",
    "    zmax=1\n",
    ")\n",
    "\n",
    "# Create figure and add trace\n",
    "fig = go.Figure(heatmap)\n",
    "\n",
    "# Update layout\n",
    "fig.update_layout(title='Mapa de calor da matriz de correlações')\n",
    "\n",
    "# Display the figure\n",
    "fig.show()"
   ]
  },
  {
   "cell_type": "code",
   "execution_count": 8,
   "metadata": {},
   "outputs": [
    {
     "data": {
      "text/html": [
       "<div>\n",
       "<style scoped>\n",
       "    .dataframe tbody tr th:only-of-type {\n",
       "        vertical-align: middle;\n",
       "    }\n",
       "\n",
       "    .dataframe tbody tr th {\n",
       "        vertical-align: top;\n",
       "    }\n",
       "\n",
       "    .dataframe thead th {\n",
       "        text-align: right;\n",
       "    }\n",
       "</style>\n",
       "<table border=\"1\" class=\"dataframe\">\n",
       "  <thead>\n",
       "    <tr style=\"text-align: right;\">\n",
       "      <th></th>\n",
       "      <th>feature1</th>\n",
       "      <th>feature2</th>\n",
       "      <th>correlation</th>\n",
       "    </tr>\n",
       "  </thead>\n",
       "  <tbody>\n",
       "    <tr>\n",
       "      <th>0</th>\n",
       "      <td>total_time (min)</td>\n",
       "      <td>total_distance (km)</td>\n",
       "      <td>0.875546</td>\n",
       "    </tr>\n",
       "    <tr>\n",
       "      <th>25</th>\n",
       "      <td>speed (km/h)</td>\n",
       "      <td>pace (min/km)</td>\n",
       "      <td>-0.750706</td>\n",
       "    </tr>\n",
       "    <tr>\n",
       "      <th>42</th>\n",
       "      <td>weekly_act_max_speed</td>\n",
       "      <td>speed (km/h)</td>\n",
       "      <td>0.784181</td>\n",
       "    </tr>\n",
       "    <tr>\n",
       "      <th>46</th>\n",
       "      <td>weekly_active_time</td>\n",
       "      <td>weekly_act_frequency</td>\n",
       "      <td>0.893514</td>\n",
       "    </tr>\n",
       "    <tr>\n",
       "      <th>48</th>\n",
       "      <td>weekly_dist_traveled</td>\n",
       "      <td>weekly_act_frequency</td>\n",
       "      <td>0.885259</td>\n",
       "    </tr>\n",
       "    <tr>\n",
       "      <th>51</th>\n",
       "      <td>weekly_act_max_speed</td>\n",
       "      <td>weekly_act_frequency</td>\n",
       "      <td>0.718241</td>\n",
       "    </tr>\n",
       "    <tr>\n",
       "      <th>55</th>\n",
       "      <td>weekly_act_max_active_time</td>\n",
       "      <td>weekly_active_time</td>\n",
       "      <td>0.808037</td>\n",
       "    </tr>\n",
       "    <tr>\n",
       "      <th>56</th>\n",
       "      <td>weekly_dist_traveled</td>\n",
       "      <td>weekly_active_time</td>\n",
       "      <td>0.960785</td>\n",
       "    </tr>\n",
       "    <tr>\n",
       "      <th>57</th>\n",
       "      <td>weekly_act_max_dist_traveled</td>\n",
       "      <td>weekly_active_time</td>\n",
       "      <td>0.820579</td>\n",
       "    </tr>\n",
       "    <tr>\n",
       "      <th>63</th>\n",
       "      <td>weekly_dist_traveled</td>\n",
       "      <td>weekly_act_max_active_time</td>\n",
       "      <td>0.752117</td>\n",
       "    </tr>\n",
       "    <tr>\n",
       "      <th>64</th>\n",
       "      <td>weekly_act_max_dist_traveled</td>\n",
       "      <td>weekly_act_max_active_time</td>\n",
       "      <td>0.894979</td>\n",
       "    </tr>\n",
       "    <tr>\n",
       "      <th>70</th>\n",
       "      <td>weekly_act_max_dist_traveled</td>\n",
       "      <td>weekly_dist_traveled</td>\n",
       "      <td>0.868036</td>\n",
       "    </tr>\n",
       "    <tr>\n",
       "      <th>72</th>\n",
       "      <td>weekly_act_max_speed</td>\n",
       "      <td>weekly_dist_traveled</td>\n",
       "      <td>0.772127</td>\n",
       "    </tr>\n",
       "  </tbody>\n",
       "</table>\n",
       "</div>"
      ],
      "text/plain": [
       "                        feature1                    feature2  correlation\n",
       "0               total_time (min)         total_distance (km)     0.875546\n",
       "25                  speed (km/h)               pace (min/km)    -0.750706\n",
       "42          weekly_act_max_speed                speed (km/h)     0.784181\n",
       "46            weekly_active_time        weekly_act_frequency     0.893514\n",
       "48          weekly_dist_traveled        weekly_act_frequency     0.885259\n",
       "51          weekly_act_max_speed        weekly_act_frequency     0.718241\n",
       "55    weekly_act_max_active_time          weekly_active_time     0.808037\n",
       "56          weekly_dist_traveled          weekly_active_time     0.960785\n",
       "57  weekly_act_max_dist_traveled          weekly_active_time     0.820579\n",
       "63          weekly_dist_traveled  weekly_act_max_active_time     0.752117\n",
       "64  weekly_act_max_dist_traveled  weekly_act_max_active_time     0.894979\n",
       "70  weekly_act_max_dist_traveled        weekly_dist_traveled     0.868036\n",
       "72          weekly_act_max_speed        weekly_dist_traveled     0.772127"
      ]
     },
     "execution_count": 8,
     "metadata": {},
     "output_type": "execute_result"
    }
   ],
   "source": [
    "# Transformar a matriz de correlação em um DataFrame (formatado de maneira que seja fácil visualizar pares de features)\n",
    "df_corr = pd.melt(corr, ignore_index=False, var_name='feature2', value_name='correlation')\n",
    "\n",
    "# Resetar o índice para que 'feature1' seja uma coluna em vez de índice e renomear a coluna de índice para 'feature1'\n",
    "df_corr = df_corr.reset_index().rename(columns={'index': 'feature1'})\n",
    "\n",
    "# Remover linhas onde 'feature1' e 'feature2' são iguais (ou seja, a correlação de uma feature com ela mesma)\n",
    "df_corr.drop(df_corr[(df_corr['feature1'] == df_corr['feature2'])].index, axis=0, inplace=True)\n",
    "\n",
    "# Remover duplicatas na coluna de correlação, mantendo apenas a primeira ocorrência\n",
    "df_corr.drop_duplicates(subset='correlation', inplace=True)\n",
    "\n",
    "# Resetar o índice mais uma vez após remover duplicatas\n",
    "df_corr.reset_index(drop=True, inplace=True)\n",
    "\n",
    "# Selecionando apenas correlações com valor acima de -0.7 ou 0.7 (Forte correlação)\n",
    "df_strong_corr = df_corr[(np.abs(df_corr['correlation']) > 0.7)]\n",
    "\n",
    "df_strong_corr"
   ]
  },
  {
   "cell_type": "code",
   "execution_count": 9,
   "metadata": {},
   "outputs": [
    {
     "data": {
      "text/html": [
       "<div>\n",
       "<style scoped>\n",
       "    .dataframe tbody tr th:only-of-type {\n",
       "        vertical-align: middle;\n",
       "    }\n",
       "\n",
       "    .dataframe tbody tr th {\n",
       "        vertical-align: top;\n",
       "    }\n",
       "\n",
       "    .dataframe thead th {\n",
       "        text-align: right;\n",
       "    }\n",
       "</style>\n",
       "<table border=\"1\" class=\"dataframe\">\n",
       "  <thead>\n",
       "    <tr style=\"text-align: right;\">\n",
       "      <th></th>\n",
       "      <th>Feature</th>\n",
       "      <th>p-value</th>\n",
       "      <th>p-value Significante</th>\n",
       "    </tr>\n",
       "  </thead>\n",
       "  <tbody>\n",
       "    <tr>\n",
       "      <th>0</th>\n",
       "      <td>total_distance (km)</td>\n",
       "      <td>0.00</td>\n",
       "      <td>True</td>\n",
       "    </tr>\n",
       "    <tr>\n",
       "      <th>1</th>\n",
       "      <td>total_time (min)</td>\n",
       "      <td>0.00</td>\n",
       "      <td>True</td>\n",
       "    </tr>\n",
       "    <tr>\n",
       "      <th>2</th>\n",
       "      <td>pace (min/km)</td>\n",
       "      <td>0.00</td>\n",
       "      <td>True</td>\n",
       "    </tr>\n",
       "    <tr>\n",
       "      <th>3</th>\n",
       "      <td>speed (km/h)</td>\n",
       "      <td>0.00</td>\n",
       "      <td>True</td>\n",
       "    </tr>\n",
       "    <tr>\n",
       "      <th>4</th>\n",
       "      <td>weekly_act_frequency</td>\n",
       "      <td>0.00</td>\n",
       "      <td>True</td>\n",
       "    </tr>\n",
       "    <tr>\n",
       "      <th>5</th>\n",
       "      <td>weekly_active_time</td>\n",
       "      <td>0.00</td>\n",
       "      <td>True</td>\n",
       "    </tr>\n",
       "    <tr>\n",
       "      <th>6</th>\n",
       "      <td>weekly_act_max_active_time</td>\n",
       "      <td>0.00</td>\n",
       "      <td>True</td>\n",
       "    </tr>\n",
       "    <tr>\n",
       "      <th>7</th>\n",
       "      <td>weekly_dist_traveled</td>\n",
       "      <td>0.00</td>\n",
       "      <td>True</td>\n",
       "    </tr>\n",
       "    <tr>\n",
       "      <th>8</th>\n",
       "      <td>weekly_act_max_dist_traveled</td>\n",
       "      <td>0.00</td>\n",
       "      <td>True</td>\n",
       "    </tr>\n",
       "    <tr>\n",
       "      <th>9</th>\n",
       "      <td>weekly_act_max_pace</td>\n",
       "      <td>0.00</td>\n",
       "      <td>True</td>\n",
       "    </tr>\n",
       "    <tr>\n",
       "      <th>10</th>\n",
       "      <td>weekly_act_max_speed</td>\n",
       "      <td>0.00</td>\n",
       "      <td>True</td>\n",
       "    </tr>\n",
       "    <tr>\n",
       "      <th>11</th>\n",
       "      <td>days_since_last_activity</td>\n",
       "      <td>0.00</td>\n",
       "      <td>True</td>\n",
       "    </tr>\n",
       "    <tr>\n",
       "      <th>12</th>\n",
       "      <td>binary_reincidence</td>\n",
       "      <td>0.02</td>\n",
       "      <td>True</td>\n",
       "    </tr>\n",
       "    <tr>\n",
       "      <th>13</th>\n",
       "      <td>accumulated_reincidence</td>\n",
       "      <td>0.00</td>\n",
       "      <td>True</td>\n",
       "    </tr>\n",
       "  </tbody>\n",
       "</table>\n",
       "</div>"
      ],
      "text/plain": [
       "                         Feature  p-value  p-value Significante\n",
       "0            total_distance (km)     0.00                  True\n",
       "1               total_time (min)     0.00                  True\n",
       "2                  pace (min/km)     0.00                  True\n",
       "3                   speed (km/h)     0.00                  True\n",
       "4           weekly_act_frequency     0.00                  True\n",
       "5             weekly_active_time     0.00                  True\n",
       "6     weekly_act_max_active_time     0.00                  True\n",
       "7           weekly_dist_traveled     0.00                  True\n",
       "8   weekly_act_max_dist_traveled     0.00                  True\n",
       "9            weekly_act_max_pace     0.00                  True\n",
       "10          weekly_act_max_speed     0.00                  True\n",
       "11      days_since_last_activity     0.00                  True\n",
       "12            binary_reincidence     0.02                  True\n",
       "13       accumulated_reincidence     0.00                  True"
      ]
     },
     "execution_count": 9,
     "metadata": {},
     "output_type": "execute_result"
    }
   ],
   "source": [
    "# Teste de Mann-Whitney U para diferenciação das features em relação ao target\n",
    "mannwhitneyu_dict = {\n",
    "    \"Feature\": [],\n",
    "    \"p-value\": []\n",
    "}\n",
    "\n",
    "\n",
    "for feature in df_athletes_activities_features.columns:\n",
    "    sem_lesao = df_athletes_activities.loc[df_athletes_activities['will_churn'] == 0 , feature]\n",
    "    com_lesao = df_athletes_activities.loc[df_athletes_activities['will_churn'] == 1 , feature]\n",
    "\n",
    "    U1, p = mannwhitneyu(sem_lesao, com_lesao, method=\"auto\")\n",
    "    U2, p = mannwhitneyu(com_lesao, sem_lesao, method=\"auto\")\n",
    "\n",
    "    mannwhitneyu_dict[\"Feature\"].append(feature)\n",
    "    mannwhitneyu_dict[\"p-value\"].append(round(p, 2))\n",
    "\n",
    "df_mannwhitneyu = pd.DataFrame(mannwhitneyu_dict).reset_index(drop = True)\n",
    "\n",
    "df_mannwhitneyu['p-value Significante'] = df_mannwhitneyu['p-value'] < 0.05\n",
    "df_mannwhitneyu"
   ]
  }
 ],
 "metadata": {
  "kernelspec": {
   "display_name": "Python 3",
   "language": "python",
   "name": "python3"
  },
  "language_info": {
   "codemirror_mode": {
    "name": "ipython",
    "version": 3
   },
   "file_extension": ".py",
   "mimetype": "text/x-python",
   "name": "python",
   "nbconvert_exporter": "python",
   "pygments_lexer": "ipython3",
   "version": "3.12.4"
  }
 },
 "nbformat": 4,
 "nbformat_minor": 2
}
