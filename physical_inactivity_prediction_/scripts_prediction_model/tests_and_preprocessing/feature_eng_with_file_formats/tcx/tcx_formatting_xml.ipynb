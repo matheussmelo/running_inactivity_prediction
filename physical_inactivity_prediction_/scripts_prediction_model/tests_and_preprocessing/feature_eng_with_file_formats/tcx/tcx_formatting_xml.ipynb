{
 "cells": [
  {
   "cell_type": "code",
   "execution_count": null,
   "metadata": {},
   "outputs": [],
   "source": [
    "import gpxpy\n",
    "import gpxpy.gpx\n",
    "from tcx2gpx.tcx2gpx import TCX2GPX\n",
    "import os\n",
    "import xml.etree.ElementTree as ET\n",
    "import gpxo\n",
    "import tcxparser\n",
    "from lxml import etree\n",
    "import datetime \n",
    "\n",
    "import warnings\n",
    "warnings.simplefilter(action='ignore')"
   ]
  },
  {
   "cell_type": "code",
   "execution_count": null,
   "metadata": {},
   "outputs": [],
   "source": [
    "# Formatação dos arquivos tcx com xml organizado\n",
    "# Antes disso tive que tirar a identação de cada arquivo tcx nas primeiras linhas \n",
    "\n",
    "def format_xml_file(file_path):\n",
    "    parser = etree.XMLParser(remove_blank_text=True)\n",
    "    tree = etree.parse(file_path, parser)\n",
    "    root = tree.getroot()\n",
    "    \n",
    "    # Pretty-print the XML\n",
    "    pretty_xml_as_string = etree.tostring(root, pretty_print=True, encoding='unicode')\n",
    "    \n",
    "    # Write the formatted XML back to the file\n",
    "    with open(file_path, 'w', encoding='utf-8') as file:\n",
    "        file.write(pretty_xml_as_string)\n",
    "\n",
    "def format_xml_files_in_directory(directory_path):\n",
    "    for filename in os.listdir(directory_path):\n",
    "        #if filename.endswith('.xml'):\n",
    "            file_path = os.path.join(directory_path, filename)\n",
    "            format_xml_file(file_path)\n",
    "            print(f\"Formatted: {file_path}\")\n",
    "\n",
    "# Path to the directory containing XML files\n",
    "directory_path = 'C:/Users/USER/Desktop/EstudosDados/Projetos/Corrida/physical_inactivity_prediction/scripts/tests_and_preprocessing/athlete7_tcx/tcx'\n",
    "\n",
    "# Format all XML files in the directory\n",
    "format_xml_files_in_directory(directory_path)"
   ]
  }
 ],
 "metadata": {
  "kernelspec": {
   "display_name": "Python 3",
   "language": "python",
   "name": "python3"
  },
  "language_info": {
   "codemirror_mode": {
    "name": "ipython",
    "version": 3
   },
   "file_extension": ".py",
   "mimetype": "text/x-python",
   "name": "python",
   "nbconvert_exporter": "python",
   "pygments_lexer": "ipython3",
   "version": "3.12.4"
  }
 },
 "nbformat": 4,
 "nbformat_minor": 2
}
