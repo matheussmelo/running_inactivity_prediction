{
 "cells": [
  {
   "cell_type": "code",
   "execution_count": 21,
   "metadata": {},
   "outputs": [],
   "source": [
    "import pandas as pd\n",
    "import fitdecode\n",
    "import os\n",
    "import warnings\n",
    "\n",
    "# Suppress FutureWarning messages\n",
    "warnings.simplefilter(action='ignore')"
   ]
  },
  {
   "cell_type": "markdown",
   "metadata": {},
   "source": [
    "#### Pasta contendo os dados brutos de cada arquivo"
   ]
  },
  {
   "cell_type": "code",
   "execution_count": 22,
   "metadata": {},
   "outputs": [],
   "source": [
    "# Caminho da pasta que terá iteração nos seus arquivos\n",
    "folder_path = 'C:/Users/USER/Desktop/EstudosDados/Projetos/Corrida/running_inactivity_prediction/athletes_activities/athlete5'"
   ]
  },
  {
   "cell_type": "code",
   "execution_count": 23,
   "metadata": {},
   "outputs": [
    {
     "data": {
      "text/plain": [
       "'\\n# Contador de linhas para servir de index\\ncount = 0\\n\\n# Itera por cada arquivo na pasta\\nfor filename in os.listdir(folder_path):\\n    # Junta o nome do arquivo com o caminho da pasta\\n    full_path = os.path.join(folder_path, filename)    \\n\\n    try:\\n\\n        # Lê o arquivo no formato específico com a biblioteca gpxo\\n        with fitdecode.FitReader(full_path) as fit_file:\\n            for frame in fit_file: \\n                continue\\n\\n    except:\\n\\n        # Printa o index e o nome do arquivo que ocorreu algum erro na leitura\\n        print(count, f\"An error ocurred on {filename}\")\\n    \\n    # Acréscimo no contador para reiniciar o loop\\n    count +=1\\n\\n'"
      ]
     },
     "execution_count": 23,
     "metadata": {},
     "output_type": "execute_result"
    }
   ],
   "source": [
    "''' Script pra achar algum arquivo corrompido '''\n",
    "\n",
    "'''\n",
    "# Contador de linhas para servir de index\n",
    "count = 0\n",
    "\n",
    "# Itera por cada arquivo na pasta\n",
    "for filename in os.listdir(folder_path):\n",
    "    # Junta o nome do arquivo com o caminho da pasta\n",
    "    full_path = os.path.join(folder_path, filename)    \n",
    "\n",
    "    try:\n",
    "\n",
    "        # Lê o arquivo no formato específico com a biblioteca gpxo\n",
    "        with fitdecode.FitReader(full_path) as fit_file:\n",
    "            for frame in fit_file: \n",
    "                continue\n",
    "\n",
    "    except:\n",
    "\n",
    "        # Printa o index e o nome do arquivo que ocorreu algum erro na leitura\n",
    "        print(count, f\"An error ocurred on {filename}\")\n",
    "    \n",
    "    # Acréscimo no contador para reiniciar o loop\n",
    "    count +=1\n",
    "\n",
    "'''"
   ]
  },
  {
   "cell_type": "markdown",
   "metadata": {},
   "source": [
    "#### Extraindo a a data da atividade, distância, tempo da ativdade, pace e velocidade dos dados brutos e passando para um dicionário"
   ]
  },
  {
   "cell_type": "code",
   "execution_count": 24,
   "metadata": {},
   "outputs": [
    {
     "data": {
      "text/plain": [
       "\"\\ndf_athlete_dict = {\\n    'activity_date': [],\\n    'total_distance (km)': [], \\n    'total_time (min)': [],\\n    'pace (min/km)': [],\\n    'speed (km/h)': []    \\n}\\n\\n# Itera por cada arquivo na pasta\\nfor filename in os.listdir(folder_path):\\n    # Junta o nome do arquivo com o caminho da pasta\\n    full_path = os.path.join(folder_path, filename)\\n\\n    with fitdecode.FitReader(full_path) as fit_file:\\n        for frame in fit_file:\\n            if frame.frame_type == fitdecode.FIT_FRAME_DATA:\\n                if frame.name == 'session':\\n                    for field in frame.fields:\\n                        if field.name == 'start_time':\\n                            df_athlete_dict['activity_date'].append(field.value)\\n\\n                        elif field.name == 'total_distance':\\n                            total_dist_km = field.value / 1000\\n                            df_athlete_dict['total_distance (km)'].append(round((total_dist_km),2))\\n\\n                        elif field.name == 'total_timer_time':\\n                            total_time_min = field.value // 60\\n                            df_athlete_dict['total_time (min)'].append(total_time_min)\\n    \\n    if total_dist_km == 0:\\n        df_athlete_dict['pace (min/km)'].append(0)\\n    else:    \\n        df_athlete_dict['pace (min/km)'].append(round((total_time_min / total_dist_km),2))\\n\\n    df_athlete_dict['speed (km/h)'].append(round(total_dist_km / (total_time_min / 60),2))\\n    \""
      ]
     },
     "execution_count": 24,
     "metadata": {},
     "output_type": "execute_result"
    }
   ],
   "source": [
    "'''\n",
    "df_athlete_dict = {\n",
    "    'activity_date': [],\n",
    "    'total_distance (km)': [], \n",
    "    'total_time (min)': [],\n",
    "    'pace (min/km)': [],\n",
    "    'speed (km/h)': []    \n",
    "}\n",
    "\n",
    "# Itera por cada arquivo na pasta\n",
    "for filename in os.listdir(folder_path):\n",
    "    # Junta o nome do arquivo com o caminho da pasta\n",
    "    full_path = os.path.join(folder_path, filename)\n",
    "\n",
    "    with fitdecode.FitReader(full_path) as fit_file:\n",
    "        for frame in fit_file:\n",
    "            if frame.frame_type == fitdecode.FIT_FRAME_DATA:\n",
    "                if frame.name == 'session':\n",
    "                    for field in frame.fields:\n",
    "                        if field.name == 'start_time':\n",
    "                            df_athlete_dict['activity_date'].append(field.value)\n",
    "\n",
    "                        elif field.name == 'total_distance':\n",
    "                            total_dist_km = field.value / 1000\n",
    "                            df_athlete_dict['total_distance (km)'].append(round((total_dist_km),2))\n",
    "\n",
    "                        elif field.name == 'total_timer_time':\n",
    "                            total_time_min = field.value // 60\n",
    "                            df_athlete_dict['total_time (min)'].append(total_time_min)\n",
    "    \n",
    "    if total_dist_km == 0:\n",
    "        df_athlete_dict['pace (min/km)'].append(0)\n",
    "    else:    \n",
    "        df_athlete_dict['pace (min/km)'].append(round((total_time_min / total_dist_km),2))\n",
    "\n",
    "    df_athlete_dict['speed (km/h)'].append(round(total_dist_km / (total_time_min / 60),2))\n",
    "    '''"
   ]
  },
  {
   "cell_type": "code",
   "execution_count": 25,
   "metadata": {},
   "outputs": [],
   "source": [
    "df_athlete_dict = {\n",
    "    'activity_date': [],              \n",
    "    'total_distance (km)': [],        \n",
    "    'total_time (min)': [],           \n",
    "    'pace (min/km)': [],              \n",
    "    'speed (km/h)': []             \n",
    "}\n",
    "\n",
    "# Itera por cada arquivo na pasta especificada\n",
    "for filename in os.listdir(folder_path):\n",
    "    # Concatena o caminho da pasta com o nome do arquivo para obter o caminho completo\n",
    "    full_path = os.path.join(folder_path, filename)\n",
    "\n",
    "    # Abre e lê o arquivo .fit usando fitdecode\n",
    "    with fitdecode.FitReader(full_path) as fit_file:\n",
    "        # Itera sobre cada quadro de dados no arquivo .fit\n",
    "        for frame in fit_file:\n",
    "            # Verifica se o quadro é do tipo dado (DATA FRAME)\n",
    "            if frame.frame_type == fitdecode.FIT_FRAME_DATA:\n",
    "                # Verifica se o quadro corresponde a uma sessão (session)\n",
    "                if frame.name == 'session':\n",
    "                    # Itera sobre cada campo de dados na sessão\n",
    "                    for field in frame.fields:\n",
    "                        # Verifica se o campo é 'start_time' e armazena a data da atividade\n",
    "                        if field.name == 'start_time':\n",
    "                            df_athlete_dict['activity_date'].append(field.value)\n",
    "\n",
    "                        # Verifica se o campo é 'total_distance' e armazena a distância total (convertida para km)\n",
    "                        elif field.name == 'total_distance':\n",
    "                            total_dist_km = field.value / 1000\n",
    "                            df_athlete_dict['total_distance (km)'].append(round(total_dist_km, 2))\n",
    "\n",
    "                        # Verifica se o campo é 'total_timer_time' e armazena o tempo total (convertido para minutos)\n",
    "                        elif field.name == 'total_timer_time':\n",
    "                            total_time_min = field.value // 60\n",
    "                            df_athlete_dict['total_time (min)'].append(total_time_min)\n",
    "    \n",
    "    # Calcula e armazena o pace (min/km) para a atividade atual\n",
    "    if total_dist_km == 0:  # Se a distância for zero, o pace também é definido como zero\n",
    "        df_athlete_dict['pace (min/km)'].append(0)\n",
    "    else:  # Caso contrário, calcula o pace como o tempo total dividido pela distância total\n",
    "        df_athlete_dict['pace (min/km)'].append(round(total_time_min / total_dist_km, 2))\n",
    "\n",
    "    # Calcula e armazena a velocidade média (km/h) para a atividade atual\n",
    "    df_athlete_dict['speed (km/h)'].append(round(total_dist_km / (total_time_min / 60), 2))"
   ]
  },
  {
   "cell_type": "markdown",
   "metadata": {},
   "source": [
    "#### Criando um Dataframe novo a partir do dicionário"
   ]
  },
  {
   "cell_type": "code",
   "execution_count": 26,
   "metadata": {},
   "outputs": [],
   "source": [
    "df_athlete_activities = pd.DataFrame(df_athlete_dict)"
   ]
  },
  {
   "cell_type": "markdown",
   "metadata": {},
   "source": [
    "#### Convertendo a coluna de data para o fuso horário local"
   ]
  },
  {
   "cell_type": "code",
   "execution_count": 27,
   "metadata": {},
   "outputs": [],
   "source": [
    "df_athlete_activities['activity_date'] = df_athlete_activities['activity_date'].dt.tz_convert('America/Sao_Paulo').dt.tz_localize(None).dt.normalize()"
   ]
  },
  {
   "cell_type": "markdown",
   "metadata": {},
   "source": [
    "#### Ordenando a data da menor pra maior e resetando index"
   ]
  },
  {
   "cell_type": "code",
   "execution_count": null,
   "metadata": {},
   "outputs": [],
   "source": [
    "df_athlete_activities.sort_values('activity_date', ascending=True, inplace=True)\n",
    "df_athlete_activities.reset_index(drop=True, inplace=True)"
   ]
  },
  {
   "cell_type": "code",
   "execution_count": 28,
   "metadata": {},
   "outputs": [
    {
     "data": {
      "text/html": [
       "<div>\n",
       "<style scoped>\n",
       "    .dataframe tbody tr th:only-of-type {\n",
       "        vertical-align: middle;\n",
       "    }\n",
       "\n",
       "    .dataframe tbody tr th {\n",
       "        vertical-align: top;\n",
       "    }\n",
       "\n",
       "    .dataframe thead th {\n",
       "        text-align: right;\n",
       "    }\n",
       "</style>\n",
       "<table border=\"1\" class=\"dataframe\">\n",
       "  <thead>\n",
       "    <tr style=\"text-align: right;\">\n",
       "      <th></th>\n",
       "      <th>activity_date</th>\n",
       "      <th>total_distance (km)</th>\n",
       "      <th>total_time (min)</th>\n",
       "      <th>pace (min/km)</th>\n",
       "      <th>speed (km/h)</th>\n",
       "    </tr>\n",
       "  </thead>\n",
       "  <tbody>\n",
       "    <tr>\n",
       "      <th>0</th>\n",
       "      <td>2021-11-07</td>\n",
       "      <td>7.02</td>\n",
       "      <td>39.0</td>\n",
       "      <td>5.56</td>\n",
       "      <td>10.79</td>\n",
       "    </tr>\n",
       "    <tr>\n",
       "      <th>1</th>\n",
       "      <td>2021-11-11</td>\n",
       "      <td>6.72</td>\n",
       "      <td>45.0</td>\n",
       "      <td>6.70</td>\n",
       "      <td>8.96</td>\n",
       "    </tr>\n",
       "    <tr>\n",
       "      <th>2</th>\n",
       "      <td>2021-11-15</td>\n",
       "      <td>42.01</td>\n",
       "      <td>192.0</td>\n",
       "      <td>4.57</td>\n",
       "      <td>13.13</td>\n",
       "    </tr>\n",
       "    <tr>\n",
       "      <th>3</th>\n",
       "      <td>2021-11-17</td>\n",
       "      <td>0.30</td>\n",
       "      <td>14.0</td>\n",
       "      <td>46.67</td>\n",
       "      <td>1.29</td>\n",
       "    </tr>\n",
       "    <tr>\n",
       "      <th>4</th>\n",
       "      <td>2021-11-18</td>\n",
       "      <td>6.75</td>\n",
       "      <td>40.0</td>\n",
       "      <td>5.93</td>\n",
       "      <td>10.12</td>\n",
       "    </tr>\n",
       "    <tr>\n",
       "      <th>...</th>\n",
       "      <td>...</td>\n",
       "      <td>...</td>\n",
       "      <td>...</td>\n",
       "      <td>...</td>\n",
       "      <td>...</td>\n",
       "    </tr>\n",
       "    <tr>\n",
       "      <th>390</th>\n",
       "      <td>2024-06-20</td>\n",
       "      <td>0.00</td>\n",
       "      <td>15.0</td>\n",
       "      <td>0.00</td>\n",
       "      <td>0.00</td>\n",
       "    </tr>\n",
       "    <tr>\n",
       "      <th>391</th>\n",
       "      <td>2024-06-20</td>\n",
       "      <td>0.00</td>\n",
       "      <td>26.0</td>\n",
       "      <td>0.00</td>\n",
       "      <td>0.00</td>\n",
       "    </tr>\n",
       "    <tr>\n",
       "      <th>392</th>\n",
       "      <td>2024-06-21</td>\n",
       "      <td>0.00</td>\n",
       "      <td>18.0</td>\n",
       "      <td>0.00</td>\n",
       "      <td>0.00</td>\n",
       "    </tr>\n",
       "    <tr>\n",
       "      <th>393</th>\n",
       "      <td>2024-06-23</td>\n",
       "      <td>14.91</td>\n",
       "      <td>90.0</td>\n",
       "      <td>6.04</td>\n",
       "      <td>9.94</td>\n",
       "    </tr>\n",
       "    <tr>\n",
       "      <th>394</th>\n",
       "      <td>2024-06-24</td>\n",
       "      <td>0.00</td>\n",
       "      <td>64.0</td>\n",
       "      <td>0.00</td>\n",
       "      <td>0.00</td>\n",
       "    </tr>\n",
       "  </tbody>\n",
       "</table>\n",
       "<p>395 rows × 5 columns</p>\n",
       "</div>"
      ],
      "text/plain": [
       "    activity_date  total_distance (km)  total_time (min)  pace (min/km)  \\\n",
       "0      2021-11-07                 7.02              39.0           5.56   \n",
       "1      2021-11-11                 6.72              45.0           6.70   \n",
       "2      2021-11-15                42.01             192.0           4.57   \n",
       "3      2021-11-17                 0.30              14.0          46.67   \n",
       "4      2021-11-18                 6.75              40.0           5.93   \n",
       "..            ...                  ...               ...            ...   \n",
       "390    2024-06-20                 0.00              15.0           0.00   \n",
       "391    2024-06-20                 0.00              26.0           0.00   \n",
       "392    2024-06-21                 0.00              18.0           0.00   \n",
       "393    2024-06-23                14.91              90.0           6.04   \n",
       "394    2024-06-24                 0.00              64.0           0.00   \n",
       "\n",
       "     speed (km/h)  \n",
       "0           10.79  \n",
       "1            8.96  \n",
       "2           13.13  \n",
       "3            1.29  \n",
       "4           10.12  \n",
       "..            ...  \n",
       "390          0.00  \n",
       "391          0.00  \n",
       "392          0.00  \n",
       "393          9.94  \n",
       "394          0.00  \n",
       "\n",
       "[395 rows x 5 columns]"
      ]
     },
     "execution_count": 28,
     "metadata": {},
     "output_type": "execute_result"
    }
   ],
   "source": [
    "df_athlete_activities"
   ]
  }
 ],
 "metadata": {
  "kernelspec": {
   "display_name": "Python 3",
   "language": "python",
   "name": "python3"
  },
  "language_info": {
   "codemirror_mode": {
    "name": "ipython",
    "version": 3
   },
   "file_extension": ".py",
   "mimetype": "text/x-python",
   "name": "python",
   "nbconvert_exporter": "python",
   "pygments_lexer": "ipython3",
   "version": "3.12.4"
  }
 },
 "nbformat": 4,
 "nbformat_minor": 2
}
