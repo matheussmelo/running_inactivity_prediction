{
 "cells": [
  {
   "cell_type": "code",
   "execution_count": 7,
   "metadata": {},
   "outputs": [],
   "source": [
    "import pandas as pd\n",
    "import gpxo\n",
    "import seaborn as sns\n",
    "import matplotlib.pyplot as plt\n",
    "import os, random\n",
    "import warnings\n",
    "import datetime\n",
    "import gpxpy\n",
    "import gpx\n",
    "\n",
    "# Suppress FutureWarning messages\n",
    "warnings.simplefilter(action='ignore')"
   ]
  },
  {
   "cell_type": "code",
   "execution_count": 8,
   "metadata": {},
   "outputs": [],
   "source": [
    "# Caminho da pasta que terá iteração nos seus arquivos\n",
    "folder_path = 'C:/Users/USER/Desktop/EstudosDados/Projetos/Corrida/physical_inactivity_prediction/athletes_activities/athlete1' "
   ]
  },
  {
   "cell_type": "code",
   "execution_count": 9,
   "metadata": {},
   "outputs": [],
   "source": [
    "# Exemplo de atividade aleatória do atleta\n",
    "act_name = random.choice(os.listdir(folder_path))\n",
    "\n",
    "path_example = os.path.join(folder_path, act_name)"
   ]
  },
  {
   "cell_type": "markdown",
   "metadata": {},
   "source": [
    "### Conferindo se algum arquivo está com problema de leitura"
   ]
  },
  {
   "cell_type": "code",
   "execution_count": 10,
   "metadata": {},
   "outputs": [
    {
     "data": {
      "text/plain": [
       "'\\n# Caminho da pasta que terá iteração nos seus arquivos\\nfolder_path = \\'C:/Users/USER/Desktop/EstudosDados/Projetos/Corrida/physical_inactivity_prediction/athletes_activities/athlete1\\'\\n\\n# Contador de linhas para servir de index\\ncount = 0\\n\\n# Itera por cada arquivo na pasta\\nfor filename in os.listdir(folder_path):\\n    # Junta o nome do arquivo com o caminho da pasta\\n    full_path = os.path.join(folder_path, filename)    \\n\\n    try:\\n\\n        # Lê o arquivo no formato específico com a biblioteca gpxo\\n        gpx = gpxo.Track(full_path)\\n\\n    except:\\n\\n        # Printa o index e o nome do arquivo que ocorreu algum erro na leitura\\n        print(count, f\"An error ocurred on {filename}\")\\n    \\n    # Acréscimo no contador para reiniciar o loop\\n    count +=1\\n\\n# Arquivo 6500685512.gpx com problema.\\n# UnicodeDecodeError: \\'charmap\\' codec can\\'t decode byte 0x90 in position 366: character maps to <undefined>.\\n# Problema resolvido: A atividade tinha um emoji e o decoder não estava conseguindo lê-lo. Se ocorrer o erro novamente, tentar remover o emoji do arquivo gpx.\\n'"
      ]
     },
     "execution_count": 10,
     "metadata": {},
     "output_type": "execute_result"
    }
   ],
   "source": [
    "'''\n",
    "# Caminho da pasta que terá iteração nos seus arquivos\n",
    "folder_path = 'C:/Users/USER/Desktop/EstudosDados/Projetos/Corrida/physical_inactivity_prediction/athletes_activities/athlete1'\n",
    "\n",
    "# Contador de linhas para servir de index\n",
    "count = 0\n",
    "\n",
    "# Itera por cada arquivo na pasta\n",
    "for filename in os.listdir(folder_path):\n",
    "    # Junta o nome do arquivo com o caminho da pasta\n",
    "    full_path = os.path.join(folder_path, filename)    \n",
    "\n",
    "    try:\n",
    "\n",
    "        # Lê o arquivo no formato específico com a biblioteca gpxo\n",
    "        gpx = gpxo.Track(full_path)\n",
    "\n",
    "    except:\n",
    "\n",
    "        # Printa o index e o nome do arquivo que ocorreu algum erro na leitura\n",
    "        print(count, f\"An error ocurred on {filename}\")\n",
    "    \n",
    "    # Acréscimo no contador para reiniciar o loop\n",
    "    count +=1\n",
    "\n",
    "# Arquivo 6500685512.gpx com problema.\n",
    "# UnicodeDecodeError: 'charmap' codec can't decode byte 0x90 in position 366: character maps to <undefined>.\n",
    "# Problema resolvido: A atividade tinha um emoji e o decoder não estava conseguindo lê-lo. Se ocorrer o erro novamente, tentar remover o emoji do arquivo gpx.\n",
    "'''"
   ]
  },
  {
   "cell_type": "markdown",
   "metadata": {},
   "source": [
    "#### Demonstração dos valores após leitura dos arquivos com diferentes bibliotecas"
   ]
  },
  {
   "cell_type": "code",
   "execution_count": 11,
   "metadata": {},
   "outputs": [
    {
     "data": {
      "text/html": [
       "<div>\n",
       "<style scoped>\n",
       "    .dataframe tbody tr th:only-of-type {\n",
       "        vertical-align: middle;\n",
       "    }\n",
       "\n",
       "    .dataframe tbody tr th {\n",
       "        vertical-align: top;\n",
       "    }\n",
       "\n",
       "    .dataframe thead th {\n",
       "        text-align: right;\n",
       "    }\n",
       "</style>\n",
       "<table border=\"1\" class=\"dataframe\">\n",
       "  <thead>\n",
       "    <tr style=\"text-align: right;\">\n",
       "      <th></th>\n",
       "      <th>time</th>\n",
       "      <th>latitude (°)</th>\n",
       "      <th>longitude (°)</th>\n",
       "      <th>distance (km)</th>\n",
       "      <th>compass (°)</th>\n",
       "      <th>duration (s)</th>\n",
       "      <th>velocity (km/h)</th>\n",
       "      <th>elevation (m)</th>\n",
       "    </tr>\n",
       "  </thead>\n",
       "  <tbody>\n",
       "    <tr>\n",
       "      <th>0</th>\n",
       "      <td>2020-10-26 15:17:10</td>\n",
       "      <td>-22.943477</td>\n",
       "      <td>-43.180130</td>\n",
       "      <td>0.000000</td>\n",
       "      <td>0.000000</td>\n",
       "      <td>0.0</td>\n",
       "      <td>0.7956</td>\n",
       "      <td>8.6</td>\n",
       "    </tr>\n",
       "    <tr>\n",
       "      <th>1</th>\n",
       "      <td>2020-10-26 15:17:11</td>\n",
       "      <td>-22.943475</td>\n",
       "      <td>-43.180130</td>\n",
       "      <td>0.000221</td>\n",
       "      <td>349.247193</td>\n",
       "      <td>1.0</td>\n",
       "      <td>1.8990</td>\n",
       "      <td>8.6</td>\n",
       "    </tr>\n",
       "    <tr>\n",
       "      <th>2</th>\n",
       "      <td>2020-10-26 15:17:12</td>\n",
       "      <td>-22.943468</td>\n",
       "      <td>-43.180133</td>\n",
       "      <td>0.001055</td>\n",
       "      <td>355.014693</td>\n",
       "      <td>2.0</td>\n",
       "      <td>3.3336</td>\n",
       "      <td>8.6</td>\n",
       "    </tr>\n",
       "    <tr>\n",
       "      <th>3</th>\n",
       "      <td>2020-10-26 15:17:13</td>\n",
       "      <td>-22.943459</td>\n",
       "      <td>-43.180131</td>\n",
       "      <td>0.002073</td>\n",
       "      <td>20.241670</td>\n",
       "      <td>3.0</td>\n",
       "      <td>5.2524</td>\n",
       "      <td>8.6</td>\n",
       "    </tr>\n",
       "    <tr>\n",
       "      <th>4</th>\n",
       "      <td>2020-10-26 15:17:14</td>\n",
       "      <td>-22.943444</td>\n",
       "      <td>-43.180122</td>\n",
       "      <td>0.003973</td>\n",
       "      <td>29.773800</td>\n",
       "      <td>4.0</td>\n",
       "      <td>6.6672</td>\n",
       "      <td>8.6</td>\n",
       "    </tr>\n",
       "    <tr>\n",
       "      <th>...</th>\n",
       "      <td>...</td>\n",
       "      <td>...</td>\n",
       "      <td>...</td>\n",
       "      <td>...</td>\n",
       "      <td>...</td>\n",
       "      <td>...</td>\n",
       "      <td>...</td>\n",
       "      <td>...</td>\n",
       "    </tr>\n",
       "    <tr>\n",
       "      <th>1584</th>\n",
       "      <td>2020-10-26 15:43:35</td>\n",
       "      <td>-22.926805</td>\n",
       "      <td>-43.170872</td>\n",
       "      <td>4.174780</td>\n",
       "      <td>212.568601</td>\n",
       "      <td>1585.0</td>\n",
       "      <td>6.2226</td>\n",
       "      <td>7.9</td>\n",
       "    </tr>\n",
       "    <tr>\n",
       "      <th>1585</th>\n",
       "      <td>2020-10-26 15:43:36</td>\n",
       "      <td>-22.926812</td>\n",
       "      <td>-43.170879</td>\n",
       "      <td>4.175837</td>\n",
       "      <td>220.466301</td>\n",
       "      <td>1586.0</td>\n",
       "      <td>3.6846</td>\n",
       "      <td>7.9</td>\n",
       "    </tr>\n",
       "    <tr>\n",
       "      <th>1586</th>\n",
       "      <td>2020-10-26 15:43:37</td>\n",
       "      <td>-22.926819</td>\n",
       "      <td>-43.170885</td>\n",
       "      <td>4.176827</td>\n",
       "      <td>222.150770</td>\n",
       "      <td>1587.0</td>\n",
       "      <td>4.0860</td>\n",
       "      <td>7.9</td>\n",
       "    </tr>\n",
       "    <tr>\n",
       "      <th>1587</th>\n",
       "      <td>2020-10-26 15:43:38</td>\n",
       "      <td>-22.926827</td>\n",
       "      <td>-43.170894</td>\n",
       "      <td>4.178107</td>\n",
       "      <td>234.868330</td>\n",
       "      <td>1588.0</td>\n",
       "      <td>4.5666</td>\n",
       "      <td>7.9</td>\n",
       "    </tr>\n",
       "    <tr>\n",
       "      <th>1588</th>\n",
       "      <td>2020-10-26 15:43:39</td>\n",
       "      <td>-22.926832</td>\n",
       "      <td>-43.170905</td>\n",
       "      <td>4.179364</td>\n",
       "      <td>243.732136</td>\n",
       "      <td>1589.0</td>\n",
       "      <td>4.5252</td>\n",
       "      <td>7.9</td>\n",
       "    </tr>\n",
       "  </tbody>\n",
       "</table>\n",
       "<p>1589 rows × 8 columns</p>\n",
       "</div>"
      ],
      "text/plain": [
       "                    time  latitude (°)  longitude (°)  distance (km)  \\\n",
       "0    2020-10-26 15:17:10    -22.943477     -43.180130       0.000000   \n",
       "1    2020-10-26 15:17:11    -22.943475     -43.180130       0.000221   \n",
       "2    2020-10-26 15:17:12    -22.943468     -43.180133       0.001055   \n",
       "3    2020-10-26 15:17:13    -22.943459     -43.180131       0.002073   \n",
       "4    2020-10-26 15:17:14    -22.943444     -43.180122       0.003973   \n",
       "...                  ...           ...            ...            ...   \n",
       "1584 2020-10-26 15:43:35    -22.926805     -43.170872       4.174780   \n",
       "1585 2020-10-26 15:43:36    -22.926812     -43.170879       4.175837   \n",
       "1586 2020-10-26 15:43:37    -22.926819     -43.170885       4.176827   \n",
       "1587 2020-10-26 15:43:38    -22.926827     -43.170894       4.178107   \n",
       "1588 2020-10-26 15:43:39    -22.926832     -43.170905       4.179364   \n",
       "\n",
       "      compass (°)  duration (s)  velocity (km/h)  elevation (m)  \n",
       "0        0.000000           0.0           0.7956            8.6  \n",
       "1      349.247193           1.0           1.8990            8.6  \n",
       "2      355.014693           2.0           3.3336            8.6  \n",
       "3       20.241670           3.0           5.2524            8.6  \n",
       "4       29.773800           4.0           6.6672            8.6  \n",
       "...           ...           ...              ...            ...  \n",
       "1584   212.568601        1585.0           6.2226            7.9  \n",
       "1585   220.466301        1586.0           3.6846            7.9  \n",
       "1586   222.150770        1587.0           4.0860            7.9  \n",
       "1587   234.868330        1588.0           4.5666            7.9  \n",
       "1588   243.732136        1589.0           4.5252            7.9  \n",
       "\n",
       "[1589 rows x 8 columns]"
      ]
     },
     "execution_count": 11,
     "metadata": {},
     "output_type": "execute_result"
    }
   ],
   "source": [
    "#gpxo.Track\n",
    "gpxo_example = gpxo.Track(path_example).data.reset_index()\n",
    "\n",
    "gpxo_example"
   ]
  },
  {
   "cell_type": "code",
   "execution_count": 33,
   "metadata": {},
   "outputs": [
    {
     "ename": "AttributeError",
     "evalue": "'list' object has no attribute 'tag'",
     "output_type": "error",
     "traceback": [
      "\u001b[1;31m---------------------------------------------------------------------------\u001b[0m",
      "\u001b[1;31mAttributeError\u001b[0m                            Traceback (most recent call last)",
      "Cell \u001b[1;32mIn[33], line 7\u001b[0m\n\u001b[0;32m      4\u001b[0m gpxpy_example \u001b[38;5;241m=\u001b[39m gpxpy\u001b[38;5;241m.\u001b[39mparse(gpx)\n\u001b[0;32m      5\u001b[0m gpxpy_example\n\u001b[1;32m----> 7\u001b[0m \u001b[43mgpxpy_example\u001b[49m\u001b[38;5;241;43m.\u001b[39;49m\u001b[43mextensions\u001b[49m\u001b[38;5;241;43m.\u001b[39;49m\u001b[43mtag\u001b[49m[\u001b[38;5;241m0\u001b[39m]\n",
      "\u001b[1;31mAttributeError\u001b[0m: 'list' object has no attribute 'tag'"
     ]
    }
   ],
   "source": [
    "#gpxpy\n",
    "gpx = open(path_example, 'r')\n",
    "\n",
    "gpxpy_example = gpxpy.parse(gpx)\n",
    "gpxpy_example\n",
    "\n",
    "gpxpy_example.extensions.tag[0]"
   ]
  },
  {
   "cell_type": "markdown",
   "metadata": {},
   "source": [
    "### Criando as features com os dados de cada arquivo"
   ]
  },
  {
   "cell_type": "code",
   "execution_count": null,
   "metadata": {},
   "outputs": [],
   "source": [
    "# Dicionário com as features que serão criadas com o valor de cada atividade\n",
    "df_athlete_dict = {\n",
    "    'activity_date': [],\n",
    "    'total_distance (km)': [], \n",
    "    'total_time (min)': [],\n",
    "    'pace (min/km)': [],\n",
    "    'velocity (km/h)': []    \n",
    "}\n",
    "\n",
    "# Itera por cada arquivo na pasta\n",
    "for filename in os.listdir(folder_path):\n",
    "    # Junta o nome do arquivo com o caminho da pasta\n",
    "    full_path = os.path.join(folder_path, filename)\n",
    "\n",
    "    # Lendo o arquivo gpx com a biblioteca gpxo para gerar um Dataframe com os dados da atividade\n",
    "    gpx = gpxo.Track(full_path).data.reset_index()    \n",
    "\n",
    "    ''' Cocantenação dos elementos novos no df a cada iteração '''\n",
    "        \n",
    "    # Data da atividade (a partir da primeira linha do df original com os pontos marcados)\n",
    "    df_athlete_dict['activity_date'].append(gpx['time'][0].round('d'))\n",
    "\n",
    "    # Distância total em km\n",
    "    total_dist = gpx['distance (km)'].max()\n",
    "    df_athlete_dict['total_distance (km)'].append(round(total_dist,2))\n",
    "\n",
    "    # Tempo total em minutos\n",
    "    total_min = (gpx['time'].max() - gpx['time'].min()).total_seconds() // 60\n",
    "    df_athlete_dict['total_time (min)'].append(total_min)\n",
    "\n",
    "    # Ritmo geral da atividade\n",
    "    df_athlete_dict['pace (min/km)'].append(round(total_min / total_dist, 2))\n",
    "\n",
    "    # Velocidade em km/h\n",
    "    df_athlete_dict['velocity (km/h)'].append(round(total_dist / (total_min / 60),2))"
   ]
  },
  {
   "cell_type": "code",
   "execution_count": null,
   "metadata": {},
   "outputs": [],
   "source": [
    "# Passando o dicionário com as features criadas para um Dataframe\n",
    "df_athlete_activities = pd.DataFrame(df_athlete_dict)"
   ]
  },
  {
   "cell_type": "code",
   "execution_count": null,
   "metadata": {},
   "outputs": [],
   "source": [
    "# Removendo datas duplicadas relacionadas à 2 ou mais atividades no mesmo dia\n",
    "df_athlete_activities.drop_duplicates(subset='activity_date', inplace= True)"
   ]
  },
  {
   "cell_type": "code",
   "execution_count": null,
   "metadata": {},
   "outputs": [],
   "source": [
    "# Atribuindo tipo de atividade para 'Atividade'\n",
    "df_athlete_activities.insert(2, 'activity_type', 'Atividade')"
   ]
  },
  {
   "cell_type": "code",
   "execution_count": null,
   "metadata": {},
   "outputs": [],
   "source": [
    "# Ordenando a data da menor pra maior e resetando index\n",
    "df_athlete_activities.sort_values('activity_date', ascending=True, inplace=True)\n",
    "df_athlete_activities.reset_index(drop=True, inplace= True)"
   ]
  },
  {
   "cell_type": "markdown",
   "metadata": {},
   "source": [
    "### Criando feature de contador de dias entre atividades"
   ]
  },
  {
   "cell_type": "code",
   "execution_count": null,
   "metadata": {},
   "outputs": [],
   "source": [
    "# Fazendo a diferença entre a atividade seguinte e a anterior e preenchendo a primeira linha com 0\n",
    "df_athlete_activities['days_between_activities'] = df_athlete_activities['activity_date'].diff(periods=1).fillna(datetime.timedelta(days=1))\n",
    "\n",
    "# Alterando o tipo da coluna para int\n",
    "df_athlete_activities['days_between_activities'] = (df_athlete_activities['days_between_activities'].dt.days) - 1"
   ]
  },
  {
   "cell_type": "markdown",
   "metadata": {},
   "source": [
    "### Abrindo os dados para cada dia"
   ]
  },
  {
   "cell_type": "code",
   "execution_count": null,
   "metadata": {},
   "outputs": [
    {
     "data": {
      "text/html": [
       "<div>\n",
       "<style scoped>\n",
       "    .dataframe tbody tr th:only-of-type {\n",
       "        vertical-align: middle;\n",
       "    }\n",
       "\n",
       "    .dataframe tbody tr th {\n",
       "        vertical-align: top;\n",
       "    }\n",
       "\n",
       "    .dataframe thead th {\n",
       "        text-align: right;\n",
       "    }\n",
       "</style>\n",
       "<table border=\"1\" class=\"dataframe\">\n",
       "  <thead>\n",
       "    <tr style=\"text-align: right;\">\n",
       "      <th></th>\n",
       "      <th>activity_date</th>\n",
       "    </tr>\n",
       "  </thead>\n",
       "  <tbody>\n",
       "    <tr>\n",
       "      <th>0</th>\n",
       "      <td>2021-02-11</td>\n",
       "    </tr>\n",
       "    <tr>\n",
       "      <th>1</th>\n",
       "      <td>2021-02-12</td>\n",
       "    </tr>\n",
       "    <tr>\n",
       "      <th>2</th>\n",
       "      <td>2021-02-13</td>\n",
       "    </tr>\n",
       "    <tr>\n",
       "      <th>3</th>\n",
       "      <td>2021-02-14</td>\n",
       "    </tr>\n",
       "    <tr>\n",
       "      <th>4</th>\n",
       "      <td>2021-02-15</td>\n",
       "    </tr>\n",
       "    <tr>\n",
       "      <th>...</th>\n",
       "      <td>...</td>\n",
       "    </tr>\n",
       "    <tr>\n",
       "      <th>1158</th>\n",
       "      <td>2024-04-14</td>\n",
       "    </tr>\n",
       "    <tr>\n",
       "      <th>1159</th>\n",
       "      <td>2024-04-15</td>\n",
       "    </tr>\n",
       "    <tr>\n",
       "      <th>1160</th>\n",
       "      <td>2024-04-16</td>\n",
       "    </tr>\n",
       "    <tr>\n",
       "      <th>1161</th>\n",
       "      <td>2024-04-17</td>\n",
       "    </tr>\n",
       "    <tr>\n",
       "      <th>1162</th>\n",
       "      <td>2024-04-18</td>\n",
       "    </tr>\n",
       "  </tbody>\n",
       "</table>\n",
       "<p>1163 rows × 1 columns</p>\n",
       "</div>"
      ],
      "text/plain": [
       "     activity_date\n",
       "0       2021-02-11\n",
       "1       2021-02-12\n",
       "2       2021-02-13\n",
       "3       2021-02-14\n",
       "4       2021-02-15\n",
       "...            ...\n",
       "1158    2024-04-14\n",
       "1159    2024-04-15\n",
       "1160    2024-04-16\n",
       "1161    2024-04-17\n",
       "1162    2024-04-18\n",
       "\n",
       "[1163 rows x 1 columns]"
      ]
     },
     "execution_count": 31,
     "metadata": {},
     "output_type": "execute_result"
    }
   ],
   "source": [
    "# Data da primeira atividade\n",
    "start = df_athlete_activities['activity_date'].iloc[0]\n",
    "\n",
    "# Data da última atividade\n",
    "end = df_athlete_activities['activity_date'].iloc[-1]\n",
    "\n",
    "# Dias entre a primeira e última atividade\n",
    "dates = pd.date_range(start,end,freq='d')\n",
    "\n",
    "# Colocando todas as datas em um df\n",
    "df_dates = pd.DataFrame({'activity_date': dates})\n",
    "df_dates"
   ]
  },
  {
   "cell_type": "code",
   "execution_count": null,
   "metadata": {},
   "outputs": [],
   "source": [
    "# Right join pra poder manter os dados das atividades existentes mas adicionar linhas para os novos dias\n",
    "df_athlete_activities = df_dates.merge(df_athlete_activities, on='activity_date', how='left')\n",
    "\n",
    "# Preechendo os valores nulos como Dia sem atividade\n",
    "df_athlete_activities['activity_type'].fillna('Dia sem atividade', inplace=True)"
   ]
  },
  {
   "cell_type": "code",
   "execution_count": null,
   "metadata": {},
   "outputs": [
    {
     "data": {
      "text/plain": [
       "activity_type\n",
       "Dia sem atividade    1101\n",
       "Atividade              62\n",
       "Name: count, dtype: int64"
      ]
     },
     "execution_count": 33,
     "metadata": {},
     "output_type": "execute_result"
    }
   ],
   "source": [
    "df_athlete_activities['activity_type'].value_counts()"
   ]
  },
  {
   "cell_type": "code",
   "execution_count": null,
   "metadata": {},
   "outputs": [],
   "source": [
    "# Preenchendo os valores NaN com 1 para poder fazer uma subtração cumulativa\n",
    "df_athlete_activities['days_between_activities'].fillna(-1, inplace= True)\n",
    "\n",
    "# Fazendo cumsum com valores negativos e depois multiplicando por -1 pra transformá-los em positivos\n",
    "df_athlete_activities['days_between_activities'] = df_athlete_activities['days_between_activities'].cumsum() * -1\n",
    "\n",
    "# Transformando em int pra evitar -0 ao invés de 0\n",
    "df_athlete_activities['days_between_activities'] = df_athlete_activities['days_between_activities'].astype(int)"
   ]
  },
  {
   "cell_type": "code",
   "execution_count": null,
   "metadata": {},
   "outputs": [
    {
     "data": {
      "text/html": [
       "<div>\n",
       "<style scoped>\n",
       "    .dataframe tbody tr th:only-of-type {\n",
       "        vertical-align: middle;\n",
       "    }\n",
       "\n",
       "    .dataframe tbody tr th {\n",
       "        vertical-align: top;\n",
       "    }\n",
       "\n",
       "    .dataframe thead th {\n",
       "        text-align: right;\n",
       "    }\n",
       "</style>\n",
       "<table border=\"1\" class=\"dataframe\">\n",
       "  <thead>\n",
       "    <tr style=\"text-align: right;\">\n",
       "      <th></th>\n",
       "      <th>activity_date</th>\n",
       "      <th>total_distance (km)</th>\n",
       "      <th>activity_type</th>\n",
       "      <th>total_time (min)</th>\n",
       "      <th>pace (min/km)</th>\n",
       "      <th>velocity (km/h)</th>\n",
       "      <th>days_between_activities</th>\n",
       "    </tr>\n",
       "  </thead>\n",
       "  <tbody>\n",
       "    <tr>\n",
       "      <th>0</th>\n",
       "      <td>2021-02-11</td>\n",
       "      <td>5.73</td>\n",
       "      <td>Atividade</td>\n",
       "      <td>49.0</td>\n",
       "      <td>8.56</td>\n",
       "      <td>7.01</td>\n",
       "      <td>0</td>\n",
       "    </tr>\n",
       "    <tr>\n",
       "      <th>1</th>\n",
       "      <td>2021-02-12</td>\n",
       "      <td>NaN</td>\n",
       "      <td>Dia sem atividade</td>\n",
       "      <td>NaN</td>\n",
       "      <td>NaN</td>\n",
       "      <td>NaN</td>\n",
       "      <td>1</td>\n",
       "    </tr>\n",
       "    <tr>\n",
       "      <th>2</th>\n",
       "      <td>2021-02-13</td>\n",
       "      <td>NaN</td>\n",
       "      <td>Dia sem atividade</td>\n",
       "      <td>NaN</td>\n",
       "      <td>NaN</td>\n",
       "      <td>NaN</td>\n",
       "      <td>2</td>\n",
       "    </tr>\n",
       "    <tr>\n",
       "      <th>3</th>\n",
       "      <td>2021-02-14</td>\n",
       "      <td>NaN</td>\n",
       "      <td>Dia sem atividade</td>\n",
       "      <td>NaN</td>\n",
       "      <td>NaN</td>\n",
       "      <td>NaN</td>\n",
       "      <td>3</td>\n",
       "    </tr>\n",
       "    <tr>\n",
       "      <th>4</th>\n",
       "      <td>2021-02-15</td>\n",
       "      <td>NaN</td>\n",
       "      <td>Dia sem atividade</td>\n",
       "      <td>NaN</td>\n",
       "      <td>NaN</td>\n",
       "      <td>NaN</td>\n",
       "      <td>4</td>\n",
       "    </tr>\n",
       "    <tr>\n",
       "      <th>...</th>\n",
       "      <td>...</td>\n",
       "      <td>...</td>\n",
       "      <td>...</td>\n",
       "      <td>...</td>\n",
       "      <td>...</td>\n",
       "      <td>...</td>\n",
       "      <td>...</td>\n",
       "    </tr>\n",
       "    <tr>\n",
       "      <th>1158</th>\n",
       "      <td>2024-04-14</td>\n",
       "      <td>NaN</td>\n",
       "      <td>Dia sem atividade</td>\n",
       "      <td>NaN</td>\n",
       "      <td>NaN</td>\n",
       "      <td>NaN</td>\n",
       "      <td>8</td>\n",
       "    </tr>\n",
       "    <tr>\n",
       "      <th>1159</th>\n",
       "      <td>2024-04-15</td>\n",
       "      <td>NaN</td>\n",
       "      <td>Dia sem atividade</td>\n",
       "      <td>NaN</td>\n",
       "      <td>NaN</td>\n",
       "      <td>NaN</td>\n",
       "      <td>9</td>\n",
       "    </tr>\n",
       "    <tr>\n",
       "      <th>1160</th>\n",
       "      <td>2024-04-16</td>\n",
       "      <td>NaN</td>\n",
       "      <td>Dia sem atividade</td>\n",
       "      <td>NaN</td>\n",
       "      <td>NaN</td>\n",
       "      <td>NaN</td>\n",
       "      <td>10</td>\n",
       "    </tr>\n",
       "    <tr>\n",
       "      <th>1161</th>\n",
       "      <td>2024-04-17</td>\n",
       "      <td>NaN</td>\n",
       "      <td>Dia sem atividade</td>\n",
       "      <td>NaN</td>\n",
       "      <td>NaN</td>\n",
       "      <td>NaN</td>\n",
       "      <td>11</td>\n",
       "    </tr>\n",
       "    <tr>\n",
       "      <th>1162</th>\n",
       "      <td>2024-04-18</td>\n",
       "      <td>10.12</td>\n",
       "      <td>Atividade</td>\n",
       "      <td>65.0</td>\n",
       "      <td>6.42</td>\n",
       "      <td>9.35</td>\n",
       "      <td>0</td>\n",
       "    </tr>\n",
       "  </tbody>\n",
       "</table>\n",
       "<p>1163 rows × 7 columns</p>\n",
       "</div>"
      ],
      "text/plain": [
       "     activity_date  total_distance (km)      activity_type  total_time (min)  \\\n",
       "0       2021-02-11                 5.73          Atividade              49.0   \n",
       "1       2021-02-12                  NaN  Dia sem atividade               NaN   \n",
       "2       2021-02-13                  NaN  Dia sem atividade               NaN   \n",
       "3       2021-02-14                  NaN  Dia sem atividade               NaN   \n",
       "4       2021-02-15                  NaN  Dia sem atividade               NaN   \n",
       "...            ...                  ...                ...               ...   \n",
       "1158    2024-04-14                  NaN  Dia sem atividade               NaN   \n",
       "1159    2024-04-15                  NaN  Dia sem atividade               NaN   \n",
       "1160    2024-04-16                  NaN  Dia sem atividade               NaN   \n",
       "1161    2024-04-17                  NaN  Dia sem atividade               NaN   \n",
       "1162    2024-04-18                10.12          Atividade              65.0   \n",
       "\n",
       "      pace (min/km)  velocity (km/h)  days_between_activities  \n",
       "0              8.56             7.01                        0  \n",
       "1               NaN              NaN                        1  \n",
       "2               NaN              NaN                        2  \n",
       "3               NaN              NaN                        3  \n",
       "4               NaN              NaN                        4  \n",
       "...             ...              ...                      ...  \n",
       "1158            NaN              NaN                        8  \n",
       "1159            NaN              NaN                        9  \n",
       "1160            NaN              NaN                       10  \n",
       "1161            NaN              NaN                       11  \n",
       "1162           6.42             9.35                        0  \n",
       "\n",
       "[1163 rows x 7 columns]"
      ]
     },
     "execution_count": 35,
     "metadata": {},
     "output_type": "execute_result"
    }
   ],
   "source": [
    "df_athlete_activities"
   ]
  },
  {
   "cell_type": "code",
   "execution_count": null,
   "metadata": {},
   "outputs": [
    {
     "data": {
      "text/plain": [
       "count    1163.000000\n",
       "mean      107.960447\n",
       "std       113.904133\n",
       "min         0.000000\n",
       "25%         6.000000\n",
       "50%        58.000000\n",
       "75%       203.500000\n",
       "max       367.000000\n",
       "Name: days_between_activities, dtype: float64"
      ]
     },
     "execution_count": 36,
     "metadata": {},
     "output_type": "execute_result"
    }
   ],
   "source": [
    "df_athlete_activities['days_between_activities'].describe()"
   ]
  },
  {
   "cell_type": "code",
   "execution_count": null,
   "metadata": {},
   "outputs": [
    {
     "data": {
      "image/png": "[encoded data removed]",
      "text/plain": [
       "<Figure size 2600x700 with 1 Axes>"
      ]
     },
     "metadata": {},
     "output_type": "display_data"
    }
   ],
   "source": [
    "fig, ax = plt.subplots(figsize =(26, 7))\n",
    "sns.lineplot(x = 'activity_date', y= 'days_between_activities', data= df_athlete_activities)\n",
    "plt.xticks([])\n",
    "plt.title('Análise de dias entre atividades')\n",
    "plt.show()"
   ]
  },
  {
   "cell_type": "code",
   "execution_count": null,
   "metadata": {},
   "outputs": [],
   "source": [
    "#df_athlete_activities.to_csv('C:/Users/USER/Desktop/EstudosDados/Projetos/Corrida/physical_inactivity_prediction/scripts/tests_and_preprocessing/gpx_processed_data.csv', index=False)"
   ]
  }
 ],
 "metadata": {
  "kernelspec": {
   "display_name": "Python 3",
   "language": "python",
   "name": "python3"
  },
  "language_info": {
   "codemirror_mode": {
    "name": "ipython",
    "version": 3
   },
   "file_extension": ".py",
   "mimetype": "text/x-python",
   "name": "python",
   "nbconvert_exporter": "python",
   "pygments_lexer": "ipython3",
   "version": "3.12.4"
  }
 },
 "nbformat": 4,
 "nbformat_minor": 2
}
